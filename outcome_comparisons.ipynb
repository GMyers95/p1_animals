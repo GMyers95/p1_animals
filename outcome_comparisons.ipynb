{
 "cells": [
  {
   "cell_type": "code",
   "execution_count": 25,
   "id": "c9f195b2-8bf0-4ce4-801a-79d80bd53d43",
   "metadata": {},
   "outputs": [],
   "source": [
    "import pandas as pd\n",
    "import os\n",
    "import matplotlib.pyplot as plt"
   ]
  },
  {
   "cell_type": "code",
   "execution_count": 40,
   "id": "ecb03101-9fa6-424e-a3d4-14dffa5650c9",
   "metadata": {},
   "outputs": [
    {
     "data": {
      "text/plain": [
       "State                                                     154\n",
       "Year                                                      153\n",
       "Intake - Relinquished By Owner Total-Feline               153\n",
       "Intake - Stray At Large Total-Feline                      153\n",
       "Intake - Transferred In Total-Feline                      153\n",
       "Intake - Owner Intended Euthanasia Total-Feline           153\n",
       "Intakes - Other Intakes Total-Feline                      153\n",
       "Live Outcome - Adoption Total-Feline                      153\n",
       "Live Outcome - Returned To Owner Total-Feline             153\n",
       "Live Outcome - Returned To Field Total-Feline             153\n",
       "Live Outcome - Transferred Out Total-Feline               153\n",
       "Live outcome - Other Live Outcome Total-Feline            153\n",
       "Other Outcome - Died In Care Total-Feline                 153\n",
       "Other Outcome - Lost In Care Total-Feline                 153\n",
       "Other Outcome - Owner Intended Euthanasia Total-Feline    153\n",
       "Other Outcome - Shelter Euthanasia Total-Feline           153\n",
       "Intake - Relinquished By Owner Total-Canine               153\n",
       "Intake - Stray At Large Total-Canine                      153\n",
       "Intake - Transferred In Total-Canine                      153\n",
       "Intake - Owner Intended Euthanasia Total-Canine           153\n",
       "Intakes - Other Intakes Total-Canine                      153\n",
       "Live Outcome - Adoption Total-Canine                      153\n",
       "Live Outcome - Returned To Owner Total-Canine             153\n",
       "Live Outcome - Returned To Field Total-Canine             153\n",
       "Live Outcome - Transferred Out Total-Canine               153\n",
       "Live outcome - Other Live Outcome Total-Canine            153\n",
       "Other Outcome - Died In Care Total-Canine                 153\n",
       "Other Outcome - Lost In Care Total-Canine                 153\n",
       "Other Outcome - Owner Intended Euthanasia Total-Canine    153\n",
       "Other Outcome - Shelter Euthanasia Total-Canine           153\n",
       "Population                                                154\n",
       "dtype: int64"
      ]
     },
     "execution_count": 40,
     "metadata": {},
     "output_type": "execute_result"
    }
   ],
   "source": [
    "main_df_path = os.path.join('Resources','shelter_data_complete.csv')\n",
    "main_df = pd.read_csv(main_df_path)\n",
    "\n",
    "main_df.count()\n",
    "\n"
   ]
  },
  {
   "cell_type": "code",
   "execution_count": 21,
   "id": "b1cd7cd2-046f-442c-b152-2d6b4152fec1",
   "metadata": {},
   "outputs": [
    {
     "data": {
      "text/plain": [
       "2750141.0"
      ]
     },
     "execution_count": 21,
     "metadata": {},
     "output_type": "execute_result"
    }
   ],
   "source": [
    "# Sum of all feline live outcomes\n",
    "\n",
    "feline_live_outcome = [\n",
    "    'Live Outcome - Adoption Total-Feline',\n",
    "    'Live Outcome - Returned To Owner Total-Feline',\n",
    "    'Live Outcome - Returned To Field Total-Feline',\n",
    "    'Live Outcome - Transferred Out Total-Feline',\n",
    "    'Live outcome - Other Live Outcome Total-Feline']\n",
    "\n",
    "feline_live_outcome_sum_column = main_df[feline_live_outcome].sum(axis = 1)\n",
    "\n",
    "total_feline_live_outcome = feline_live_outcome_sum_column.sum()\n",
    "\n",
    "total_feline_live_outcome\n",
    "\n",
    "    "
   ]
  },
  {
   "cell_type": "code",
   "execution_count": 19,
   "id": "91e58b29-2d78-49dc-aade-4f11cb422298",
   "metadata": {},
   "outputs": [
    {
     "data": {
      "text/plain": [
       "455105.0"
      ]
     },
     "execution_count": 19,
     "metadata": {},
     "output_type": "execute_result"
    }
   ],
   "source": [
    "# Sum of all feline other outcomes\n",
    "\n",
    "feline_other_outcome = [\n",
    "    'Other Outcome - Died In Care Total-Feline',\n",
    "    'Other Outcome - Lost In Care Total-Feline',\n",
    "    'Other Outcome - Owner Intended Euthanasia Total-Feline',\n",
    "    'Other Outcome - Shelter Euthanasia Total-Feline']\n",
    "\n",
    "feline_other_outcome_sum_column = main_df[feline_other_outcome].sum(axis = 1)\n",
    "\n",
    "total_feline_other_outcome = feline_other_outcome_sum_column.sum() \n",
    "total_feline_other_outcome"
   ]
  },
  {
   "cell_type": "code",
   "execution_count": 17,
   "id": "dba7c150-9b7a-4ccf-829d-62526e65777c",
   "metadata": {},
   "outputs": [
    {
     "data": {
      "text/plain": [
       "2781369.0"
      ]
     },
     "execution_count": 17,
     "metadata": {},
     "output_type": "execute_result"
    }
   ],
   "source": [
    "# Sum of all canine live outcomes\n",
    "canine_live_outcome = [\n",
    "    'Live Outcome - Adoption Total-Canine',\n",
    "    'Live Outcome - Returned To Owner Total-Canine',\n",
    "    'Live Outcome - Returned To Field Total-Canine',\n",
    "    'Live Outcome - Transferred Out Total-Canine',\n",
    "    'Live outcome - Other Live Outcome Total-Canine']\n",
    "\n",
    "canine_live_outcome_sum_column = main_df[canine_live_outcome].sum(axis = 1)\n",
    "\n",
    "total_canine_live_outcome = canine_live_outcome_sum_column.sum()\n",
    "total_canine_live_outcome"
   ]
  },
  {
   "cell_type": "code",
   "execution_count": 16,
   "id": "73ce95de-4cd6-499c-b20d-5caa9d002f83",
   "metadata": {},
   "outputs": [
    {
     "data": {
      "text/plain": [
       "307743.0"
      ]
     },
     "execution_count": 16,
     "metadata": {},
     "output_type": "execute_result"
    }
   ],
   "source": [
    "# Sum of all canine other outcomes\n",
    "\n",
    "canine_other_outcome = [\n",
    "    'Other Outcome - Died In Care Total-Canine',\n",
    "    'Other Outcome - Lost In Care Total-Canine',\n",
    "    'Other Outcome - Owner Intended Euthanasia Total-Canine',\n",
    "    'Other Outcome - Shelter Euthanasia Total-Canine',]\n",
    "\n",
    "canine_other_outcome_sum_column = main_df[canine_other_outcome].sum(axis = 1)\n",
    "\n",
    "total_canine_other_outcome = canine_other_outcome_sum_column.sum()\n",
    "total_canine_other_outcome"
   ]
  },
  {
   "cell_type": "code",
   "execution_count": 35,
   "id": "199048d6-9f11-4679-873f-28e610bbe9eb",
   "metadata": {},
   "outputs": [
    {
     "data": {
      "image/png": "[encoded data removed]",
      "text/plain": [
       "<Figure size 432x288 with 1 Axes>"
      ]
     },
     "metadata": {},
     "output_type": "display_data"
    }
   ],
   "source": [
    "# Feline pie graph\n",
    "labels =\"Live Outcomes\", \"Other Outcomes\"\n",
    "\n",
    "data = [total_feline_live_outcome, total_feline_other_outcome]\n",
    "\n",
    "plt.pie(data, labels = labels, autopct='%1.1f%%', colors = [\"green\", \"pink\"])\n",
    "\n",
    "plt.title(\"Feline Outcome Comparison\")\n",
    "\n",
    "plt.show()"
   ]
  },
  {
   "cell_type": "code",
   "execution_count": 36,
   "id": "f306d1dc",
   "metadata": {},
   "outputs": [
    {
     "data": {
      "image/png": "[encoded data removed]",
      "text/plain": [
       "<Figure size 432x288 with 1 Axes>"
      ]
     },
     "metadata": {},
     "output_type": "display_data"
    }
   ],
   "source": [
    "# Canine pie graph\n",
    "labels =\"Live Outcomes\", \"Other Outcomes\"\n",
    "\n",
    "data = [total_canine_live_outcome, total_canine_other_outcome]\n",
    "\n",
    "plt.pie(data, labels = labels,autopct='%1.1f%%' , colors = [\"green\", \"pink\"])\n",
    "\n",
    "plt.title(\"Canine Outcome Comparison\")\n",
    "\n",
    "plt.show()"
   ]
  },
  {
   "cell_type": "code",
   "execution_count": null,
   "id": "86060ded",
   "metadata": {},
   "outputs": [],
   "source": []
  }
 ],
 "metadata": {
  "kernelspec": {
   "display_name": "Python 3.8.13 ('PythonData38')",
   "language": "python",
   "name": "python3"
  },
  "language_info": {
   "codemirror_mode": {
    "name": "ipython",
    "version": 3
   },
   "file_extension": ".py",
   "mimetype": "text/x-python",
   "name": "python",
   "nbconvert_exporter": "python",
   "pygments_lexer": "ipython3",
   "version": "3.8.13"
  },
  "vscode": {
   "interpreter": {
    "hash": "e0654a5b59dd5b24101221be60c7d120a0a171df0ac06a79cc4cd145704d4547"
   }
  }
 },
 "nbformat": 4,
 "nbformat_minor": 5
}
