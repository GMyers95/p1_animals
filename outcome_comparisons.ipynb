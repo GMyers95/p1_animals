{
 "cells": [
  {
   "cell_type": "code",
   "execution_count": null,
   "id": "c9f195b2-8bf0-4ce4-801a-79d80bd53d43",
   "metadata": {},
   "outputs": [],
   "source": [
    "import pandas as pd\n",
    "import os\n",
    "import matplotlib.pyplot as plt"
   ]
  },
  {
   "cell_type": "code",
   "execution_count": null,
   "id": "ecb03101-9fa6-424e-a3d4-14dffa5650c9",
   "metadata": {},
   "outputs": [],
   "source": [
    "main_df_path = os.path.join('Resources','shelter_data_complete.csv')\n",
    "main_df = pd.read_csv(main_df_path)\n",
    "main_df \n"
   ]
  },
  {
   "cell_type": "code",
   "execution_count": null,
   "id": "b1cd7cd2-046f-442c-b152-2d6b4152fec1",
   "metadata": {},
   "outputs": [],
   "source": [
    "# Sum of all feline live outcomes\n",
    "\n",
    "feline_live_outcome = [\n",
    "    'Live Outcome - Adoption Total-Feline',\n",
    "    'Live Outcome - Returned To Owner Total-Feline',\n",
    "    'Live Outcome - Returned To Field Total-Feline',\n",
    "    'Live Outcome - Transferred Out Total-Feline',\n",
    "    'Live outcome - Other Live Outcome Total-Feline']\n",
    "\n",
    "feline_live_outcome_sum_column = main_df[feline_live_outcome].sum(axis = 1)\n",
    "\n",
    "\n",
    "\n",
    "    "
   ]
  },
  {
   "cell_type": "code",
   "execution_count": null,
   "id": "91e58b29-2d78-49dc-aade-4f11cb422298",
   "metadata": {},
   "outputs": [],
   "source": [
    "# Sum of all feline other outcomes\n",
    "\n",
    "feline_other_outcome = [\n",
    "    'Other Outcome - Died In Care Total-Feline',\n",
    "    'Other Outcome - Lost In Care Total-Feline',\n",
    "    'Other Outcome - Owner Intended Euthanasia Total-Feline',\n",
    "    'Other Outcome - Shelter Euthanasia Total-Feline']\n",
    "\n",
    "feline_other_outcome_sum_column = main_df[feline_other_outcome].sum(axis = 1)\n"
   ]
  },
  {
   "cell_type": "code",
   "execution_count": null,
   "id": "dba7c150-9b7a-4ccf-829d-62526e65777c",
   "metadata": {},
   "outputs": [],
   "source": [
    "# Sum of all canine live outcomes\n",
    "canine_live_outcome = [\n",
    "    'Live Outcome - Adoption Total-Canine',\n",
    "    'Live Outcome - Returned To Owner Total-Canine',\n",
    "    'Live Outcome - Returned To Field Total-Canine',\n",
    "    'Live Outcome - Transferred Out Total-Canine',\n",
    "    'Live outcome - Other Live Outcome Total-Canine']\n",
    "\n",
    "canine_live_outcome_sum_column = main_df[canine_live_outcome].sum(axis = 1)\n",
    "\n"
   ]
  },
  {
   "cell_type": "code",
   "execution_count": null,
   "id": "73ce95de-4cd6-499c-b20d-5caa9d002f83",
   "metadata": {},
   "outputs": [],
   "source": [
    "# Sum of all canine other outcomes\n",
    "\n",
    "canine_other_outcome = [\n",
    "    'Other Outcome - Died In Care Total-Canine',\n",
    "    'Other Outcome - Lost In Care Total-Canine',\n",
    "    'Other Outcome - Owner Intended Euthanasia Total-Canine',\n",
    "    'Other Outcome - Shelter Euthanasia Total-Canine',]\n",
    "\n",
    "canine_other_outcome_sum_column = main_df[canine_other_outcome].sum(axis = 1)\n",
    "\n"
   ]
  },
  {
   "cell_type": "code",
   "execution_count": null,
   "id": "5a915396",
   "metadata": {},
   "outputs": [],
   "source": [
    "# Add outcome sum columns to main dataframe\n",
    "main_df[\"Total feline live outcomes\"] = feline_live_outcome_sum_column\n",
    "\n",
    "main_df[\"Total feline other outcomes\"] = feline_other_outcome_sum_column\n",
    "\n",
    "main_df[\"Total canine live outcomes\"] = canine_live_outcome_sum_column\n",
    "\n",
    "main_df[\"Total canine other outcomes\"] = canine_other_outcome_sum_column\n",
    "\n",
    "main_df.columns"
   ]
  },
  {
   "cell_type": "code",
   "execution_count": null,
   "id": "7ee1ca50",
   "metadata": {},
   "outputs": [],
   "source": [
    "#Groupby year and sum outcomes\n",
    "columns_for_analysis = [\n",
    "    'Total feline live outcomes',\n",
    "    'Total feline other outcomes',\n",
    "    'Total canine live outcomes', \n",
    "    'Total canine other outcomes'\n",
    "    ]\n",
    "\n",
    "total_outcomes_groupby_yr = main_df.groupby(\"Year\").sum()\n",
    "\n",
    "total_outcomes_groupby_yr[columns_for_analysis]\n",
    "\n"
   ]
  },
  {
   "cell_type": "code",
   "execution_count": null,
   "id": "7af79758",
   "metadata": {},
   "outputs": [],
   "source": [
    "feline_live_outcome_2019 = total_outcomes_groupby_yr.loc[(2019),(\"Total feline live outcomes\")]\n",
    "feline_other_outcome_2019 = total_outcomes_groupby_yr.loc[(2019),(\"Total feline other outcomes\")]\n",
    "\n",
    "labels =\"Live Outcomes\", \"Other Outcomes\"\n",
    "\n",
    "data = [feline_live_outcome_2019, feline_other_outcome_2019]\n",
    "\n",
    "plt.pie(data, labels = labels, autopct='%1.1f%%', colors = [\"green\", \"pink\"])\n",
    "\n",
    "plt.title(\"Feline Outcome Comparison 2019\")\n",
    "\n",
    "plt.savefig(\"Images/feline outcome 2019.png\")\n",
    "\n",
    "plt.show()\n"
   ]
  },
  {
   "cell_type": "code",
   "execution_count": null,
   "id": "d127dee0",
   "metadata": {},
   "outputs": [],
   "source": [
    "feline_live_outcome_2020 = total_outcomes_groupby_yr.loc[(2020),(\"Total feline live outcomes\")]\n",
    "feline_other_outcome_2020 = total_outcomes_groupby_yr.loc[(2020),(\"Total feline other outcomes\")]\n",
    "\n",
    "labels =\"Live Outcomes\", \"Other Outcomes\"\n",
    "\n",
    "data = [feline_live_outcome_2020, feline_other_outcome_2020]\n",
    "\n",
    "plt.pie(data, labels = labels, autopct='%1.1f%%', colors = [\"green\", \"pink\"])\n",
    "\n",
    "plt.title(\"Feline Outcome Comparison 2020\")\n",
    "\n",
    "plt.savefig(\"Images/feline outcome 2020.png\")\n",
    "\n",
    "plt.show()"
   ]
  },
  {
   "cell_type": "code",
   "execution_count": null,
   "id": "6a02f6ae",
   "metadata": {},
   "outputs": [],
   "source": [
    "feline_live_outcome_2021 = total_outcomes_groupby_yr.loc[(2021),(\"Total feline live outcomes\")]\n",
    "feline_other_outcome_2021 = total_outcomes_groupby_yr.loc[(2021),(\"Total feline other outcomes\")]\n",
    "\n",
    "labels =\"Live Outcomes\", \"Other Outcomes\"\n",
    "\n",
    "data = [feline_live_outcome_2021, feline_other_outcome_2021]\n",
    "\n",
    "plt.pie(data, labels = labels, autopct='%1.1f%%', colors = [\"green\", \"pink\"])\n",
    "\n",
    "plt.title(\"Feline Outcome Comparison 2021\")\n",
    "\n",
    "plt.savefig(\"Images/feline outcome 2021.png\")\n",
    "\n",
    "plt.show()"
   ]
  },
  {
   "cell_type": "code",
   "execution_count": null,
   "id": "e4e9dd7c",
   "metadata": {},
   "outputs": [],
   "source": [
    "#Canine comparision "
   ]
  },
  {
   "cell_type": "code",
   "execution_count": null,
   "id": "bf43973a",
   "metadata": {},
   "outputs": [],
   "source": [
    "# Canine 2019 outcome comparison \n",
    "canine_live_outcome_2019 = total_outcomes_groupby_yr.loc[(2019),(\"Total canine live outcomes\")]\n",
    "canine_other_outcome_2019 = total_outcomes_groupby_yr.loc[(2019),(\"Total canine other outcomes\")]\n",
    "\n",
    "labels =\"Live Outcomes\", \"Other Outcomes\"\n",
    "\n",
    "data = [canine_live_outcome_2019, canine_other_outcome_2019]\n",
    "\n",
    "plt.pie(data, labels = labels, autopct='%1.1f%%', colors = [\"green\", \"pink\"])\n",
    "\n",
    "plt.title(\"Canine Outcome Comparison 2019\")\n",
    "\n",
    "plt.savefig(\"Images/canine outcome 2019.png\")\n",
    "\n",
    "plt.show()"
   ]
  },
  {
   "cell_type": "code",
   "execution_count": null,
   "id": "68ba56c0",
   "metadata": {},
   "outputs": [],
   "source": [
    "# Canine 2020 outcome comparison \n",
    "canine_live_outcome_2020 = total_outcomes_groupby_yr.loc[(2020),(\"Total canine live outcomes\")]\n",
    "canine_other_outcome_2020 = total_outcomes_groupby_yr.loc[(2020),(\"Total canine other outcomes\")]\n",
    "\n",
    "labels =\"Live Outcomes\", \"Other Outcomes\"\n",
    "\n",
    "data = [canine_live_outcome_2020, canine_other_outcome_2020]\n",
    "\n",
    "plt.pie(data, labels = labels, autopct='%1.1f%%', colors = [\"green\", \"pink\"])\n",
    "\n",
    "plt.title(\"Canine Outcome Comparison 2020\")\n",
    "\n",
    "plt.savefig(\"Images/canine outcome 2020.png\")\n",
    "\n",
    "plt.show()"
   ]
  },
  {
   "cell_type": "code",
   "execution_count": null,
   "id": "30f3ad23",
   "metadata": {},
   "outputs": [],
   "source": [
    "# Canine 2021 outcome comparison \n",
    "canine_live_outcome_2021 = total_outcomes_groupby_yr.loc[(2021),(\"Total canine live outcomes\")]\n",
    "canine_other_outcome_2021 = total_outcomes_groupby_yr.loc[(2021),(\"Total canine other outcomes\")]\n",
    "\n",
    "labels =\"Live Outcomes\", \"Other Outcomes\"\n",
    "\n",
    "data = [canine_live_outcome_2021, canine_other_outcome_2021]\n",
    "\n",
    "plt.pie(data, labels = labels, autopct='%1.1f%%', colors = [\"green\", \"pink\"])\n",
    "\n",
    "plt.title(\"Canine Outcome Comparison 2021\")\n",
    "\n",
    "plt.savefig(\"Images/canine outcome 2021.png\")\n",
    "\n",
    "plt.show()"
   ]
  },
  {
   "cell_type": "code",
   "execution_count": null,
   "id": "75f9a874",
   "metadata": {},
   "outputs": [],
   "source": []
  }
 ],
 "metadata": {
  "kernelspec": {
   "display_name": "Python 3.8.13 ('PythonData38')",
   "language": "python",
   "name": "python3"
  },
  "language_info": {
   "codemirror_mode": {
    "name": "ipython",
    "version": 3
   },
   "file_extension": ".py",
   "mimetype": "text/x-python",
   "name": "python",
   "nbconvert_exporter": "python",
   "pygments_lexer": "ipython3",
   "version": "3.8.13"
  },
  "vscode": {
   "interpreter": {
    "hash": "e0654a5b59dd5b24101221be60c7d120a0a171df0ac06a79cc4cd145704d4547"
   }
  }
 },
 "nbformat": 4,
 "nbformat_minor": 5
}
