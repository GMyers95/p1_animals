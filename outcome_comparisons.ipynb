{
 "cells": [
  {
   "cell_type": "code",
   "execution_count": 2,
   "id": "c9f195b2-8bf0-4ce4-801a-79d80bd53d43",
   "metadata": {},
   "outputs": [],
   "source": [
    "import pandas as pd\n",
    "import os\n",
    "import matplotlib.pyplot as plt"
   ]
  },
  {
   "cell_type": "code",
   "execution_count": 3,
   "id": "ecb03101-9fa6-424e-a3d4-14dffa5650c9",
   "metadata": {},
   "outputs": [
    {
     "data": {
      "text/html": [
       "<div>\n",
       "<style scoped>\n",
       "    .dataframe tbody tr th:only-of-type {\n",
       "        vertical-align: middle;\n",
       "    }\n",
       "\n",
       "    .dataframe tbody tr th {\n",
       "        vertical-align: top;\n",
       "    }\n",
       "\n",
       "    .dataframe thead th {\n",
       "        text-align: right;\n",
       "    }\n",
       "</style>\n",
       "<table border=\"1\" class=\"dataframe\">\n",
       "  <thead>\n",
       "    <tr style=\"text-align: right;\">\n",
       "      <th></th>\n",
       "      <th>State</th>\n",
       "      <th>Year</th>\n",
       "      <th>Intake - Relinquished By Owner Total-Feline</th>\n",
       "      <th>Intake - Stray At Large Total-Feline</th>\n",
       "      <th>Intake - Transferred In Total-Feline</th>\n",
       "      <th>Intake - Owner Intended Euthanasia Total-Feline</th>\n",
       "      <th>Intakes - Other Intakes Total-Feline</th>\n",
       "      <th>Live Outcome - Adoption Total-Feline</th>\n",
       "      <th>Live Outcome - Returned To Owner Total-Feline</th>\n",
       "      <th>Live Outcome - Returned To Field Total-Feline</th>\n",
       "      <th>...</th>\n",
       "      <th>Live Outcome - Adoption Total-Canine</th>\n",
       "      <th>Live Outcome - Returned To Owner Total-Canine</th>\n",
       "      <th>Live Outcome - Returned To Field Total-Canine</th>\n",
       "      <th>Live Outcome - Transferred Out Total-Canine</th>\n",
       "      <th>Live outcome - Other Live Outcome Total-Canine</th>\n",
       "      <th>Other Outcome - Died In Care Total-Canine</th>\n",
       "      <th>Other Outcome - Lost In Care Total-Canine</th>\n",
       "      <th>Other Outcome - Owner Intended Euthanasia Total-Canine</th>\n",
       "      <th>Other Outcome - Shelter Euthanasia Total-Canine</th>\n",
       "      <th>Population</th>\n",
       "    </tr>\n",
       "  </thead>\n",
       "  <tbody>\n",
       "    <tr>\n",
       "      <th>0</th>\n",
       "      <td>AL</td>\n",
       "      <td>2019</td>\n",
       "      <td>5006</td>\n",
       "      <td>7199</td>\n",
       "      <td>811</td>\n",
       "      <td>16</td>\n",
       "      <td>467</td>\n",
       "      <td>7582</td>\n",
       "      <td>140</td>\n",
       "      <td>744</td>\n",
       "      <td>...</td>\n",
       "      <td>9484</td>\n",
       "      <td>2895</td>\n",
       "      <td>15</td>\n",
       "      <td>5927</td>\n",
       "      <td>1</td>\n",
       "      <td>310</td>\n",
       "      <td>27</td>\n",
       "      <td>111</td>\n",
       "      <td>3094</td>\n",
       "      <td>5024279</td>\n",
       "    </tr>\n",
       "    <tr>\n",
       "      <th>1</th>\n",
       "      <td>AL</td>\n",
       "      <td>2020</td>\n",
       "      <td>3495</td>\n",
       "      <td>6803</td>\n",
       "      <td>527</td>\n",
       "      <td>19</td>\n",
       "      <td>525</td>\n",
       "      <td>6816</td>\n",
       "      <td>140</td>\n",
       "      <td>747</td>\n",
       "      <td>...</td>\n",
       "      <td>7480</td>\n",
       "      <td>2303</td>\n",
       "      <td>16</td>\n",
       "      <td>6483</td>\n",
       "      <td>5</td>\n",
       "      <td>253</td>\n",
       "      <td>21</td>\n",
       "      <td>63</td>\n",
       "      <td>2054</td>\n",
       "      <td>5024279</td>\n",
       "    </tr>\n",
       "    <tr>\n",
       "      <th>2</th>\n",
       "      <td>AL</td>\n",
       "      <td>2021</td>\n",
       "      <td>3282</td>\n",
       "      <td>7481</td>\n",
       "      <td>683</td>\n",
       "      <td>7</td>\n",
       "      <td>995</td>\n",
       "      <td>7181</td>\n",
       "      <td>147</td>\n",
       "      <td>1180</td>\n",
       "      <td>...</td>\n",
       "      <td>7681</td>\n",
       "      <td>2584</td>\n",
       "      <td>0</td>\n",
       "      <td>6118</td>\n",
       "      <td>90</td>\n",
       "      <td>260</td>\n",
       "      <td>13</td>\n",
       "      <td>37</td>\n",
       "      <td>2099</td>\n",
       "      <td>5024279</td>\n",
       "    </tr>\n",
       "    <tr>\n",
       "      <th>3</th>\n",
       "      <td>AK</td>\n",
       "      <td>2019</td>\n",
       "      <td>850</td>\n",
       "      <td>1786</td>\n",
       "      <td>32</td>\n",
       "      <td>67</td>\n",
       "      <td>68</td>\n",
       "      <td>1689</td>\n",
       "      <td>353</td>\n",
       "      <td>0</td>\n",
       "      <td>...</td>\n",
       "      <td>0</td>\n",
       "      <td>0</td>\n",
       "      <td>0</td>\n",
       "      <td>0</td>\n",
       "      <td>0</td>\n",
       "      <td>0</td>\n",
       "      <td>0</td>\n",
       "      <td>0</td>\n",
       "      <td>0</td>\n",
       "      <td>733391</td>\n",
       "    </tr>\n",
       "    <tr>\n",
       "      <th>4</th>\n",
       "      <td>AK</td>\n",
       "      <td>2020</td>\n",
       "      <td>800</td>\n",
       "      <td>1404</td>\n",
       "      <td>61</td>\n",
       "      <td>51</td>\n",
       "      <td>68</td>\n",
       "      <td>1755</td>\n",
       "      <td>331</td>\n",
       "      <td>0</td>\n",
       "      <td>...</td>\n",
       "      <td>0</td>\n",
       "      <td>0</td>\n",
       "      <td>0</td>\n",
       "      <td>0</td>\n",
       "      <td>0</td>\n",
       "      <td>0</td>\n",
       "      <td>0</td>\n",
       "      <td>0</td>\n",
       "      <td>0</td>\n",
       "      <td>733391</td>\n",
       "    </tr>\n",
       "    <tr>\n",
       "      <th>...</th>\n",
       "      <td>...</td>\n",
       "      <td>...</td>\n",
       "      <td>...</td>\n",
       "      <td>...</td>\n",
       "      <td>...</td>\n",
       "      <td>...</td>\n",
       "      <td>...</td>\n",
       "      <td>...</td>\n",
       "      <td>...</td>\n",
       "      <td>...</td>\n",
       "      <td>...</td>\n",
       "      <td>...</td>\n",
       "      <td>...</td>\n",
       "      <td>...</td>\n",
       "      <td>...</td>\n",
       "      <td>...</td>\n",
       "      <td>...</td>\n",
       "      <td>...</td>\n",
       "      <td>...</td>\n",
       "      <td>...</td>\n",
       "      <td>...</td>\n",
       "    </tr>\n",
       "    <tr>\n",
       "      <th>151</th>\n",
       "      <td>WY</td>\n",
       "      <td>2020</td>\n",
       "      <td>819</td>\n",
       "      <td>1458</td>\n",
       "      <td>394</td>\n",
       "      <td>24</td>\n",
       "      <td>1112</td>\n",
       "      <td>2184</td>\n",
       "      <td>155</td>\n",
       "      <td>72</td>\n",
       "      <td>...</td>\n",
       "      <td>1662</td>\n",
       "      <td>1024</td>\n",
       "      <td>0</td>\n",
       "      <td>57</td>\n",
       "      <td>397</td>\n",
       "      <td>11</td>\n",
       "      <td>1</td>\n",
       "      <td>58</td>\n",
       "      <td>113</td>\n",
       "      <td>576851</td>\n",
       "    </tr>\n",
       "    <tr>\n",
       "      <th>152</th>\n",
       "      <td>WY</td>\n",
       "      <td>2021</td>\n",
       "      <td>894</td>\n",
       "      <td>1240</td>\n",
       "      <td>557</td>\n",
       "      <td>19</td>\n",
       "      <td>1120</td>\n",
       "      <td>2362</td>\n",
       "      <td>175</td>\n",
       "      <td>17</td>\n",
       "      <td>...</td>\n",
       "      <td>1510</td>\n",
       "      <td>960</td>\n",
       "      <td>0</td>\n",
       "      <td>59</td>\n",
       "      <td>398</td>\n",
       "      <td>7</td>\n",
       "      <td>2</td>\n",
       "      <td>59</td>\n",
       "      <td>113</td>\n",
       "      <td>576851</td>\n",
       "    </tr>\n",
       "    <tr>\n",
       "      <th>153</th>\n",
       "      <td>PR</td>\n",
       "      <td>2019</td>\n",
       "      <td>403</td>\n",
       "      <td>1219</td>\n",
       "      <td>0</td>\n",
       "      <td>122</td>\n",
       "      <td>97</td>\n",
       "      <td>234</td>\n",
       "      <td>3</td>\n",
       "      <td>0</td>\n",
       "      <td>...</td>\n",
       "      <td>790</td>\n",
       "      <td>27</td>\n",
       "      <td>0</td>\n",
       "      <td>110</td>\n",
       "      <td>12</td>\n",
       "      <td>15</td>\n",
       "      <td>4</td>\n",
       "      <td>231</td>\n",
       "      <td>854</td>\n",
       "      <td>3285874</td>\n",
       "    </tr>\n",
       "    <tr>\n",
       "      <th>154</th>\n",
       "      <td>PR</td>\n",
       "      <td>2020</td>\n",
       "      <td>152</td>\n",
       "      <td>318</td>\n",
       "      <td>23</td>\n",
       "      <td>113</td>\n",
       "      <td>43</td>\n",
       "      <td>172</td>\n",
       "      <td>0</td>\n",
       "      <td>5</td>\n",
       "      <td>...</td>\n",
       "      <td>698</td>\n",
       "      <td>21</td>\n",
       "      <td>0</td>\n",
       "      <td>100</td>\n",
       "      <td>0</td>\n",
       "      <td>9</td>\n",
       "      <td>1</td>\n",
       "      <td>202</td>\n",
       "      <td>203</td>\n",
       "      <td>3285874</td>\n",
       "    </tr>\n",
       "    <tr>\n",
       "      <th>155</th>\n",
       "      <td>PR</td>\n",
       "      <td>2021</td>\n",
       "      <td>359</td>\n",
       "      <td>648</td>\n",
       "      <td>19</td>\n",
       "      <td>159</td>\n",
       "      <td>53</td>\n",
       "      <td>226</td>\n",
       "      <td>4</td>\n",
       "      <td>9</td>\n",
       "      <td>...</td>\n",
       "      <td>659</td>\n",
       "      <td>24</td>\n",
       "      <td>1</td>\n",
       "      <td>92</td>\n",
       "      <td>0</td>\n",
       "      <td>16</td>\n",
       "      <td>1</td>\n",
       "      <td>270</td>\n",
       "      <td>301</td>\n",
       "      <td>3285874</td>\n",
       "    </tr>\n",
       "  </tbody>\n",
       "</table>\n",
       "<p>156 rows × 31 columns</p>\n",
       "</div>"
      ],
      "text/plain": [
       "    State  Year  Intake - Relinquished By Owner Total-Feline  \\\n",
       "0      AL  2019                                         5006   \n",
       "1      AL  2020                                         3495   \n",
       "2      AL  2021                                         3282   \n",
       "3      AK  2019                                          850   \n",
       "4      AK  2020                                          800   \n",
       "..    ...   ...                                          ...   \n",
       "151    WY  2020                                          819   \n",
       "152    WY  2021                                          894   \n",
       "153    PR  2019                                          403   \n",
       "154    PR  2020                                          152   \n",
       "155    PR  2021                                          359   \n",
       "\n",
       "     Intake - Stray At Large Total-Feline  \\\n",
       "0                                    7199   \n",
       "1                                    6803   \n",
       "2                                    7481   \n",
       "3                                    1786   \n",
       "4                                    1404   \n",
       "..                                    ...   \n",
       "151                                  1458   \n",
       "152                                  1240   \n",
       "153                                  1219   \n",
       "154                                   318   \n",
       "155                                   648   \n",
       "\n",
       "     Intake - Transferred In Total-Feline  \\\n",
       "0                                     811   \n",
       "1                                     527   \n",
       "2                                     683   \n",
       "3                                      32   \n",
       "4                                      61   \n",
       "..                                    ...   \n",
       "151                                   394   \n",
       "152                                   557   \n",
       "153                                     0   \n",
       "154                                    23   \n",
       "155                                    19   \n",
       "\n",
       "     Intake - Owner Intended Euthanasia Total-Feline  \\\n",
       "0                                                 16   \n",
       "1                                                 19   \n",
       "2                                                  7   \n",
       "3                                                 67   \n",
       "4                                                 51   \n",
       "..                                               ...   \n",
       "151                                               24   \n",
       "152                                               19   \n",
       "153                                              122   \n",
       "154                                              113   \n",
       "155                                              159   \n",
       "\n",
       "     Intakes - Other Intakes Total-Feline  \\\n",
       "0                                     467   \n",
       "1                                     525   \n",
       "2                                     995   \n",
       "3                                      68   \n",
       "4                                      68   \n",
       "..                                    ...   \n",
       "151                                  1112   \n",
       "152                                  1120   \n",
       "153                                    97   \n",
       "154                                    43   \n",
       "155                                    53   \n",
       "\n",
       "     Live Outcome - Adoption Total-Feline  \\\n",
       "0                                    7582   \n",
       "1                                    6816   \n",
       "2                                    7181   \n",
       "3                                    1689   \n",
       "4                                    1755   \n",
       "..                                    ...   \n",
       "151                                  2184   \n",
       "152                                  2362   \n",
       "153                                   234   \n",
       "154                                   172   \n",
       "155                                   226   \n",
       "\n",
       "     Live Outcome - Returned To Owner Total-Feline  \\\n",
       "0                                              140   \n",
       "1                                              140   \n",
       "2                                              147   \n",
       "3                                              353   \n",
       "4                                              331   \n",
       "..                                             ...   \n",
       "151                                            155   \n",
       "152                                            175   \n",
       "153                                              3   \n",
       "154                                              0   \n",
       "155                                              4   \n",
       "\n",
       "     Live Outcome - Returned To Field Total-Feline  ...  \\\n",
       "0                                              744  ...   \n",
       "1                                              747  ...   \n",
       "2                                             1180  ...   \n",
       "3                                                0  ...   \n",
       "4                                                0  ...   \n",
       "..                                             ...  ...   \n",
       "151                                             72  ...   \n",
       "152                                             17  ...   \n",
       "153                                              0  ...   \n",
       "154                                              5  ...   \n",
       "155                                              9  ...   \n",
       "\n",
       "     Live Outcome - Adoption Total-Canine  \\\n",
       "0                                    9484   \n",
       "1                                    7480   \n",
       "2                                    7681   \n",
       "3                                       0   \n",
       "4                                       0   \n",
       "..                                    ...   \n",
       "151                                  1662   \n",
       "152                                  1510   \n",
       "153                                   790   \n",
       "154                                   698   \n",
       "155                                   659   \n",
       "\n",
       "     Live Outcome - Returned To Owner Total-Canine  \\\n",
       "0                                             2895   \n",
       "1                                             2303   \n",
       "2                                             2584   \n",
       "3                                                0   \n",
       "4                                                0   \n",
       "..                                             ...   \n",
       "151                                           1024   \n",
       "152                                            960   \n",
       "153                                             27   \n",
       "154                                             21   \n",
       "155                                             24   \n",
       "\n",
       "     Live Outcome - Returned To Field Total-Canine  \\\n",
       "0                                               15   \n",
       "1                                               16   \n",
       "2                                                0   \n",
       "3                                                0   \n",
       "4                                                0   \n",
       "..                                             ...   \n",
       "151                                              0   \n",
       "152                                              0   \n",
       "153                                              0   \n",
       "154                                              0   \n",
       "155                                              1   \n",
       "\n",
       "     Live Outcome - Transferred Out Total-Canine  \\\n",
       "0                                           5927   \n",
       "1                                           6483   \n",
       "2                                           6118   \n",
       "3                                              0   \n",
       "4                                              0   \n",
       "..                                           ...   \n",
       "151                                           57   \n",
       "152                                           59   \n",
       "153                                          110   \n",
       "154                                          100   \n",
       "155                                           92   \n",
       "\n",
       "     Live outcome - Other Live Outcome Total-Canine  \\\n",
       "0                                                 1   \n",
       "1                                                 5   \n",
       "2                                                90   \n",
       "3                                                 0   \n",
       "4                                                 0   \n",
       "..                                              ...   \n",
       "151                                             397   \n",
       "152                                             398   \n",
       "153                                              12   \n",
       "154                                               0   \n",
       "155                                               0   \n",
       "\n",
       "     Other Outcome - Died In Care Total-Canine  \\\n",
       "0                                          310   \n",
       "1                                          253   \n",
       "2                                          260   \n",
       "3                                            0   \n",
       "4                                            0   \n",
       "..                                         ...   \n",
       "151                                         11   \n",
       "152                                          7   \n",
       "153                                         15   \n",
       "154                                          9   \n",
       "155                                         16   \n",
       "\n",
       "     Other Outcome - Lost In Care Total-Canine  \\\n",
       "0                                           27   \n",
       "1                                           21   \n",
       "2                                           13   \n",
       "3                                            0   \n",
       "4                                            0   \n",
       "..                                         ...   \n",
       "151                                          1   \n",
       "152                                          2   \n",
       "153                                          4   \n",
       "154                                          1   \n",
       "155                                          1   \n",
       "\n",
       "     Other Outcome - Owner Intended Euthanasia Total-Canine  \\\n",
       "0                                                  111        \n",
       "1                                                   63        \n",
       "2                                                   37        \n",
       "3                                                    0        \n",
       "4                                                    0        \n",
       "..                                                 ...        \n",
       "151                                                 58        \n",
       "152                                                 59        \n",
       "153                                                231        \n",
       "154                                                202        \n",
       "155                                                270        \n",
       "\n",
       "     Other Outcome - Shelter Euthanasia Total-Canine  Population  \n",
       "0                                               3094     5024279  \n",
       "1                                               2054     5024279  \n",
       "2                                               2099     5024279  \n",
       "3                                                  0      733391  \n",
       "4                                                  0      733391  \n",
       "..                                               ...         ...  \n",
       "151                                              113      576851  \n",
       "152                                              113      576851  \n",
       "153                                              854     3285874  \n",
       "154                                              203     3285874  \n",
       "155                                              301     3285874  \n",
       "\n",
       "[156 rows x 31 columns]"
      ]
     },
     "execution_count": 3,
     "metadata": {},
     "output_type": "execute_result"
    }
   ],
   "source": [
    "main_df_path = os.path.join('Resources','shelter_data_complete.csv')\n",
    "main_df = pd.read_csv(main_df_path)\n",
    "main_df \n"
   ]
  },
  {
   "cell_type": "code",
   "execution_count": 4,
   "id": "b1cd7cd2-046f-442c-b152-2d6b4152fec1",
   "metadata": {},
   "outputs": [
    {
     "data": {
      "text/plain": [
       "2794373"
      ]
     },
     "execution_count": 4,
     "metadata": {},
     "output_type": "execute_result"
    }
   ],
   "source": [
    "# Sum of all feline live outcomes\n",
    "\n",
    "feline_live_outcome = [\n",
    "    'Live Outcome - Adoption Total-Feline',\n",
    "    'Live Outcome - Returned To Owner Total-Feline',\n",
    "    'Live Outcome - Returned To Field Total-Feline',\n",
    "    'Live Outcome - Transferred Out Total-Feline',\n",
    "    'Live outcome - Other Live Outcome Total-Feline']\n",
    "\n",
    "feline_live_outcome_sum_column = main_df[feline_live_outcome].sum(axis = 1)\n",
    "\n",
    "total_feline_live_outcome = feline_live_outcome_sum_column.sum()\n",
    "\n",
    "\n",
    "total_feline_live_outcome\n",
    "\n",
    "\n",
    "    "
   ]
  },
  {
   "cell_type": "code",
   "execution_count": 5,
   "id": "91e58b29-2d78-49dc-aade-4f11cb422298",
   "metadata": {},
   "outputs": [
    {
     "data": {
      "text/plain": [
       "458287"
      ]
     },
     "execution_count": 5,
     "metadata": {},
     "output_type": "execute_result"
    }
   ],
   "source": [
    "# Sum of all feline other outcomes\n",
    "\n",
    "feline_other_outcome = [\n",
    "    'Other Outcome - Died In Care Total-Feline',\n",
    "    'Other Outcome - Lost In Care Total-Feline',\n",
    "    'Other Outcome - Owner Intended Euthanasia Total-Feline',\n",
    "    'Other Outcome - Shelter Euthanasia Total-Feline']\n",
    "\n",
    "feline_other_outcome_sum_column = main_df[feline_other_outcome].sum(axis = 1)\n",
    "\n",
    "total_feline_other_outcome = feline_other_outcome_sum_column.sum() \n",
    "total_feline_other_outcome"
   ]
  },
  {
   "cell_type": "code",
   "execution_count": 6,
   "id": "dba7c150-9b7a-4ccf-829d-62526e65777c",
   "metadata": {},
   "outputs": [
    {
     "data": {
      "text/plain": [
       "2826961"
      ]
     },
     "execution_count": 6,
     "metadata": {},
     "output_type": "execute_result"
    }
   ],
   "source": [
    "# Sum of all canine live outcomes\n",
    "canine_live_outcome = [\n",
    "    'Live Outcome - Adoption Total-Canine',\n",
    "    'Live Outcome - Returned To Owner Total-Canine',\n",
    "    'Live Outcome - Returned To Field Total-Canine',\n",
    "    'Live Outcome - Transferred Out Total-Canine',\n",
    "    'Live outcome - Other Live Outcome Total-Canine']\n",
    "\n",
    "canine_live_outcome_sum_column = main_df[canine_live_outcome].sum(axis = 1)\n",
    "\n",
    "total_canine_live_outcome = canine_live_outcome_sum_column.sum()\n",
    "total_canine_live_outcome"
   ]
  },
  {
   "cell_type": "code",
   "execution_count": 7,
   "id": "73ce95de-4cd6-499c-b20d-5caa9d002f83",
   "metadata": {},
   "outputs": [
    {
     "data": {
      "text/plain": [
       "309969"
      ]
     },
     "execution_count": 7,
     "metadata": {},
     "output_type": "execute_result"
    }
   ],
   "source": [
    "# Sum of all canine other outcomes\n",
    "\n",
    "canine_other_outcome = [\n",
    "    'Other Outcome - Died In Care Total-Canine',\n",
    "    'Other Outcome - Lost In Care Total-Canine',\n",
    "    'Other Outcome - Owner Intended Euthanasia Total-Canine',\n",
    "    'Other Outcome - Shelter Euthanasia Total-Canine',]\n",
    "\n",
    "canine_other_outcome_sum_column = main_df[canine_other_outcome].sum(axis = 1)\n",
    "\n",
    "total_canine_other_outcome = canine_other_outcome_sum_column.sum()\n",
    "total_canine_other_outcome"
   ]
  },
  {
   "cell_type": "code",
   "execution_count": 8,
   "id": "199048d6-9f11-4679-873f-28e610bbe9eb",
   "metadata": {},
   "outputs": [
    {
     "data": {
      "image/png": "[encoded data removed]",
      "text/plain": [
       "<Figure size 432x288 with 1 Axes>"
      ]
     },
     "metadata": {},
     "output_type": "display_data"
    }
   ],
   "source": [
    "# Feline pie graph\n",
    "labels =\"Live Outcomes\", \"Other Outcomes\"\n",
    "\n",
    "data = [total_feline_live_outcome, total_feline_other_outcome]\n",
    "\n",
    "plt.pie(data, labels = labels, autopct='%1.1f%%', colors = [\"green\", \"pink\"])\n",
    "\n",
    "plt.title(\"Feline Outcome Comparison\")\n",
    "\n",
    "plt.show()"
   ]
  },
  {
   "cell_type": "code",
   "execution_count": 9,
   "id": "f306d1dc",
   "metadata": {},
   "outputs": [
    {
     "data": {
      "image/png": "[encoded data removed]",
      "text/plain": [
       "<Figure size 432x288 with 1 Axes>"
      ]
     },
     "metadata": {},
     "output_type": "display_data"
    }
   ],
   "source": [
    "# Canine pie graph\n",
    "labels =\"Live Outcomes\", \"Other Outcomes\"\n",
    "\n",
    "data = [total_canine_live_outcome, total_canine_other_outcome]\n",
    "\n",
    "plt.pie(data, labels = labels,autopct='%1.1f%%' , colors = [\"green\", \"pink\"])\n",
    "\n",
    "plt.title(\"Canine Outcome Comparison\")\n",
    "\n",
    "plt.show()"
   ]
  },
  {
   "cell_type": "code",
   "execution_count": 10,
   "id": "81f587cd",
   "metadata": {},
   "outputs": [
    {
     "data": {
      "image/png": "[encoded data removed]",
      "text/plain": [
       "<Figure size 432x288 with 1 Axes>"
      ]
     },
     "metadata": {
      "needs_background": "light"
     },
     "output_type": "display_data"
    }
   ],
   "source": [
    "#Feline live outcomes break down \n",
    "\n",
    "# live_outcomes_feline_sum = main_df[feline_live_outcome].sum()\n",
    "# live_outcomes_feline_sum.plot(kind = \"bar\", title = \"Feline Live Outcomes\", xlabel = \"Live Outcome Types\", ylabel = \"Amount\", color = \"green\") \n",
    "# plt.show()"
   ]
  },
  {
   "cell_type": "code",
   "execution_count": 11,
   "id": "86060ded",
   "metadata": {},
   "outputs": [
    {
     "data": {
      "image/png": "[encoded data removed]",
      "text/plain": [
       "<Figure size 432x288 with 1 Axes>"
      ]
     },
     "metadata": {
      "needs_background": "light"
     },
     "output_type": "display_data"
    }
   ],
   "source": [
    "#Feline other outcomes break down \n",
    "\n",
    "# other_outcomes_feline_sum = main_df[feline_other_outcome].sum()\n",
    "# other_outcomes_feline_sum.plot(kind = \"bar\", title = \"Feline Other Outcomes\", xlabel = \"Other Outcome Types\", ylabel = \"Amount\", color = \"pink\") \n",
    "# plt.show()"
   ]
  },
  {
   "cell_type": "code",
   "execution_count": 12,
   "id": "ffc9cd66",
   "metadata": {},
   "outputs": [
    {
     "data": {
      "image/png": "[encoded data removed]",
      "text/plain": [
       "<Figure size 432x288 with 1 Axes>"
      ]
     },
     "metadata": {
      "needs_background": "light"
     },
     "output_type": "display_data"
    }
   ],
   "source": [
    "#Canine live outcomes break down \n",
    "# live_outcomes_canine_sum = main_df[canine_live_outcome].sum()\n",
    "# live_outcomes_canine_sum.plot(kind = \"bar\", title = \"Canine Live Outcomes\", xlabel = \"Live Outcome Types\", ylabel = \"Amount\", color = \"green\") \n",
    "# plt.show()"
   ]
  },
  {
   "cell_type": "code",
   "execution_count": 13,
   "id": "8e83e5ca",
   "metadata": {},
   "outputs": [
    {
     "data": {
      "image/png": "[encoded data removed]",
      "text/plain": [
       "<Figure size 432x288 with 1 Axes>"
      ]
     },
     "metadata": {
      "needs_background": "light"
     },
     "output_type": "display_data"
    }
   ],
   "source": [
    "#canine other outcomes break down \n",
    "# other_outcomes_canine_sum = main_df[canine_other_outcome].sum()\n",
    "# other_outcomes_canine_sum.plot(kind = \"bar\", title = \"Canine Other Outcomes\", xlabel = \"Other Outcome Types\", ylabel = \"Amount\", color = \"pink\") \n",
    "# plt.show()"
   ]
  },
  {
   "cell_type": "code",
   "execution_count": 17,
   "id": "5a915396",
   "metadata": {},
   "outputs": [
    {
     "data": {
      "text/plain": [
       "Index(['State', 'Year', 'Intake - Relinquished By Owner Total-Feline',\n",
       "       'Intake - Stray At Large Total-Feline',\n",
       "       'Intake - Transferred In Total-Feline',\n",
       "       'Intake - Owner Intended Euthanasia Total-Feline',\n",
       "       'Intakes - Other Intakes Total-Feline',\n",
       "       'Live Outcome - Adoption Total-Feline',\n",
       "       'Live Outcome - Returned To Owner Total-Feline',\n",
       "       'Live Outcome - Returned To Field Total-Feline',\n",
       "       'Live Outcome - Transferred Out Total-Feline',\n",
       "       'Live outcome - Other Live Outcome Total-Feline',\n",
       "       'Other Outcome - Died In Care Total-Feline',\n",
       "       'Other Outcome - Lost In Care Total-Feline',\n",
       "       'Other Outcome - Owner Intended Euthanasia Total-Feline',\n",
       "       'Other Outcome - Shelter Euthanasia Total-Feline',\n",
       "       'Intake - Relinquished By Owner Total-Canine',\n",
       "       'Intake - Stray At Large Total-Canine',\n",
       "       'Intake - Transferred In Total-Canine',\n",
       "       'Intake - Owner Intended Euthanasia Total-Canine',\n",
       "       'Intakes - Other Intakes Total-Canine',\n",
       "       'Live Outcome - Adoption Total-Canine',\n",
       "       'Live Outcome - Returned To Owner Total-Canine',\n",
       "       'Live Outcome - Returned To Field Total-Canine',\n",
       "       'Live Outcome - Transferred Out Total-Canine',\n",
       "       'Live outcome - Other Live Outcome Total-Canine',\n",
       "       'Other Outcome - Died In Care Total-Canine',\n",
       "       'Other Outcome - Lost In Care Total-Canine',\n",
       "       'Other Outcome - Owner Intended Euthanasia Total-Canine',\n",
       "       'Other Outcome - Shelter Euthanasia Total-Canine', 'Population',\n",
       "       'Total feline live outcomes', 'Total feline other outcomes',\n",
       "       'Total canine live outcomes', 'Total canine other outcomes'],\n",
       "      dtype='object')"
      ]
     },
     "execution_count": 17,
     "metadata": {},
     "output_type": "execute_result"
    }
   ],
   "source": [
    "# Add outcome sum columns to main dataframe\n",
    "main_df[\"Total feline live outcomes\"] = feline_live_outcome_sum_column\n",
    "\n",
    "main_df[\"Total feline other outcomes\"] = feline_other_outcome_sum_column\n",
    "\n",
    "main_df[\"Total canine live outcomes\"] = canine_live_outcome_sum_column\n",
    "\n",
    "main_df[\"Total canine other outcomes\"] = canine_other_outcome_sum_column\n",
    "\n",
    "main_df.columns"
   ]
  },
  {
   "cell_type": "code",
   "execution_count": 47,
   "id": "7ee1ca50",
   "metadata": {},
   "outputs": [
    {
     "data": {
      "text/html": [
       "<div>\n",
       "<style scoped>\n",
       "    .dataframe tbody tr th:only-of-type {\n",
       "        vertical-align: middle;\n",
       "    }\n",
       "\n",
       "    .dataframe tbody tr th {\n",
       "        vertical-align: top;\n",
       "    }\n",
       "\n",
       "    .dataframe thead th {\n",
       "        text-align: right;\n",
       "    }\n",
       "</style>\n",
       "<table border=\"1\" class=\"dataframe\">\n",
       "  <thead>\n",
       "    <tr style=\"text-align: right;\">\n",
       "      <th></th>\n",
       "      <th>Total feline live outcomes</th>\n",
       "      <th>Total feline other outcomes</th>\n",
       "      <th>Total canine live outcomes</th>\n",
       "      <th>Total canine other outcomes</th>\n",
       "    </tr>\n",
       "    <tr>\n",
       "      <th>Year</th>\n",
       "      <th></th>\n",
       "      <th></th>\n",
       "      <th></th>\n",
       "      <th></th>\n",
       "    </tr>\n",
       "  </thead>\n",
       "  <tbody>\n",
       "    <tr>\n",
       "      <th>2019</th>\n",
       "      <td>995793</td>\n",
       "      <td>214199</td>\n",
       "      <td>1097186</td>\n",
       "      <td>136841</td>\n",
       "    </tr>\n",
       "    <tr>\n",
       "      <th>2020</th>\n",
       "      <td>881062</td>\n",
       "      <td>117589</td>\n",
       "      <td>868128</td>\n",
       "      <td>83919</td>\n",
       "    </tr>\n",
       "    <tr>\n",
       "      <th>2021</th>\n",
       "      <td>917518</td>\n",
       "      <td>126499</td>\n",
       "      <td>861647</td>\n",
       "      <td>89209</td>\n",
       "    </tr>\n",
       "  </tbody>\n",
       "</table>\n",
       "</div>"
      ],
      "text/plain": [
       "      Total feline live outcomes  Total feline other outcomes  \\\n",
       "Year                                                            \n",
       "2019                      995793                       214199   \n",
       "2020                      881062                       117589   \n",
       "2021                      917518                       126499   \n",
       "\n",
       "      Total canine live outcomes  Total canine other outcomes  \n",
       "Year                                                           \n",
       "2019                     1097186                       136841  \n",
       "2020                      868128                        83919  \n",
       "2021                      861647                        89209  "
      ]
     },
     "execution_count": 47,
     "metadata": {},
     "output_type": "execute_result"
    }
   ],
   "source": [
    "#Groupby year and sum outcomes\n",
    "columns_for_analysis = [\n",
    "    'Total feline live outcomes',\n",
    "    'Total feline other outcomes',\n",
    "    'Total canine live outcomes', \n",
    "    'Total canine other outcomes'\n",
    "    ]\n",
    "\n",
    "total_outcomes_groupby_yr = main_df.groupby(\"Year\").sum()\n",
    "total_outcomes_groupby_yr[columns_for_analysis]\n",
    "\n"
   ]
  },
  {
   "cell_type": "code",
   "execution_count": 51,
   "id": "7af79758",
   "metadata": {},
   "outputs": [
    {
     "data": {
      "image/png": "[encoded data removed]",
      "text/plain": [
       "<Figure size 432x288 with 1 Axes>"
      ]
     },
     "metadata": {},
     "output_type": "display_data"
    }
   ],
   "source": [
    "feline_live_outcome_2019 = total_outcomes_groupby_yr.loc[(2019),(\"Total feline live outcomes\")]\n",
    "feline_other_outcome_2019 = total_outcomes_groupby_yr.loc[(2019),(\"Total feline other outcomes\")]\n",
    "\n",
    "labels =\"Live Outcomes\", \"Other Outcomes\"\n",
    "\n",
    "data = [feline_live_outcome_2019, feline_other_outcome_2019]\n",
    "\n",
    "plt.pie(data, labels = labels, autopct='%1.1f%%', colors = [\"green\", \"pink\"])\n",
    "\n",
    "plt.title(\"Feline Outcome Comparison 2019\")\n",
    "\n",
    "plt.show()\n"
   ]
  },
  {
   "cell_type": "code",
   "execution_count": 52,
   "id": "d127dee0",
   "metadata": {},
   "outputs": [
    {
     "data": {
      "image/png": "[encoded data removed]",
      "text/plain": [
       "<Figure size 432x288 with 1 Axes>"
      ]
     },
     "metadata": {},
     "output_type": "display_data"
    }
   ],
   "source": [
    "feline_live_outcome_2020 = total_outcomes_groupby_yr.loc[(2020),(\"Total feline live outcomes\")]\n",
    "feline_other_outcome_2020 = total_outcomes_groupby_yr.loc[(2020),(\"Total feline other outcomes\")]\n",
    "\n",
    "labels =\"Live Outcomes\", \"Other Outcomes\"\n",
    "\n",
    "data = [feline_live_outcome_2020, feline_other_outcome_2020]\n",
    "\n",
    "plt.pie(data, labels = labels, autopct='%1.1f%%', colors = [\"green\", \"pink\"])\n",
    "\n",
    "plt.title(\"Feline Outcome Comparison 2020\")\n",
    "\n",
    "plt.show()"
   ]
  },
  {
   "cell_type": "code",
   "execution_count": 53,
   "id": "6a02f6ae",
   "metadata": {},
   "outputs": [
    {
     "data": {
      "image/png": "[encoded data removed]",
      "text/plain": [
       "<Figure size 432x288 with 1 Axes>"
      ]
     },
     "metadata": {},
     "output_type": "display_data"
    }
   ],
   "source": [
    "feline_live_outcome_2021 = total_outcomes_groupby_yr.loc[(2021),(\"Total feline live outcomes\")]\n",
    "feline_other_outcome_2021 = total_outcomes_groupby_yr.loc[(2021),(\"Total feline other outcomes\")]\n",
    "\n",
    "labels =\"Live Outcomes\", \"Other Outcomes\"\n",
    "\n",
    "data = [feline_live_outcome_2021, feline_other_outcome_2021]\n",
    "\n",
    "plt.pie(data, labels = labels, autopct='%1.1f%%', colors = [\"green\", \"pink\"])\n",
    "\n",
    "plt.title(\"Feline Outcome Comparison 2021\")\n",
    "\n",
    "plt.show()"
   ]
  },
  {
   "cell_type": "code",
   "execution_count": null,
   "id": "e4e9dd7c",
   "metadata": {},
   "outputs": [],
   "source": [
    "#Canine comparision "
   ]
  },
  {
   "cell_type": "code",
   "execution_count": 54,
   "id": "bf43973a",
   "metadata": {},
   "outputs": [
    {
     "data": {
      "image/png": "[encoded data removed]",
      "text/plain": [
       "<Figure size 432x288 with 1 Axes>"
      ]
     },
     "metadata": {},
     "output_type": "display_data"
    }
   ],
   "source": [
    "# Canine 2019 outcome comparison \n",
    "canine_live_outcome_2019 = total_outcomes_groupby_yr.loc[(2019),(\"Total canine live outcomes\")]\n",
    "canine_other_outcome_2019 = total_outcomes_groupby_yr.loc[(2019),(\"Total canine other outcomes\")]\n",
    "\n",
    "labels =\"Live Outcomes\", \"Other Outcomes\"\n",
    "\n",
    "data = [canine_live_outcome_2019, canine_other_outcome_2019]\n",
    "\n",
    "plt.pie(data, labels = labels, autopct='%1.1f%%', colors = [\"green\", \"pink\"])\n",
    "\n",
    "plt.title(\"Canine Outcome Comparison 2019\")\n",
    "\n",
    "plt.show()"
   ]
  },
  {
   "cell_type": "code",
   "execution_count": 55,
   "id": "68ba56c0",
   "metadata": {},
   "outputs": [
    {
     "data": {
      "image/png": "[encoded data removed]",
      "text/plain": [
       "<Figure size 432x288 with 1 Axes>"
      ]
     },
     "metadata": {},
     "output_type": "display_data"
    }
   ],
   "source": [
    "# Canine 2020 outcome comparison \n",
    "canine_live_outcome_2020 = total_outcomes_groupby_yr.loc[(2020),(\"Total canine live outcomes\")]\n",
    "canine_other_outcome_2020 = total_outcomes_groupby_yr.loc[(2020),(\"Total canine other outcomes\")]\n",
    "\n",
    "labels =\"Live Outcomes\", \"Other Outcomes\"\n",
    "\n",
    "data = [canine_live_outcome_2020, canine_other_outcome_2020]\n",
    "\n",
    "plt.pie(data, labels = labels, autopct='%1.1f%%', colors = [\"green\", \"pink\"])\n",
    "\n",
    "plt.title(\"Canine Outcome Comparison 2020\")\n",
    "\n",
    "plt.show()"
   ]
  },
  {
   "cell_type": "code",
   "execution_count": 57,
   "id": "30f3ad23",
   "metadata": {},
   "outputs": [
    {
     "data": {
      "image/png": "[encoded data removed]",
      "text/plain": [
       "<Figure size 432x288 with 1 Axes>"
      ]
     },
     "metadata": {},
     "output_type": "display_data"
    }
   ],
   "source": [
    "# Canine 2020 outcome comparison \n",
    "canine_live_outcome_2021 = total_outcomes_groupby_yr.loc[(2021),(\"Total canine live outcomes\")]\n",
    "canine_other_outcome_2021 = total_outcomes_groupby_yr.loc[(2021),(\"Total canine other outcomes\")]\n",
    "\n",
    "labels =\"Live Outcomes\", \"Other Outcomes\"\n",
    "\n",
    "data = [canine_live_outcome_2021, canine_other_outcome_2021]\n",
    "\n",
    "plt.pie(data, labels = labels, autopct='%1.1f%%', colors = [\"green\", \"pink\"])\n",
    "\n",
    "plt.title(\"Canine Outcome Comparison 2021\")\n",
    "\n",
    "plt.show()"
   ]
  },
  {
   "cell_type": "code",
   "execution_count": null,
   "id": "75f9a874",
   "metadata": {},
   "outputs": [],
   "source": []
  }
 ],
 "metadata": {
  "kernelspec": {
   "display_name": "Python 3.8.13 ('PythonData38')",
   "language": "python",
   "name": "python3"
  },
  "language_info": {
   "codemirror_mode": {
    "name": "ipython",
    "version": 3
   },
   "file_extension": ".py",
   "mimetype": "text/x-python",
   "name": "python",
   "nbconvert_exporter": "python",
   "pygments_lexer": "ipython3",
   "version": "3.8.13"
  },
  "vscode": {
   "interpreter": {
    "hash": "e0654a5b59dd5b24101221be60c7d120a0a171df0ac06a79cc4cd145704d4547"
   }
  }
 },
 "nbformat": 4,
 "nbformat_minor": 5
}
