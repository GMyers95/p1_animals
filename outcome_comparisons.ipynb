{
 "cells": [
  {
   "cell_type": "code",
   "execution_count": 5,
   "id": "c9f195b2-8bf0-4ce4-801a-79d80bd53d43",
   "metadata": {},
   "outputs": [],
   "source": [
    "import pandas as pd\n",
    "import os"
   ]
  },
  {
   "cell_type": "code",
   "execution_count": 21,
   "id": "ecb03101-9fa6-424e-a3d4-14dffa5650c9",
   "metadata": {},
   "outputs": [
    {
     "data": {
      "text/plain": [
       "Index(['State', 'Year', 'Intake - Relinquished By Owner Total-Feline',\n",
       "       'Intake - Stray At Large Total-Feline',\n",
       "       'Intake - Transferred In Total-Feline',\n",
       "       'Intake - Owner Intended Euthanasia Total-Feline',\n",
       "       'Intakes - Other Intakes Total-Feline',\n",
       "       'Live Outcome - Adoption Total-Feline',\n",
       "       'Live Outcome - Returned To Owner Total-Feline',\n",
       "       'Live Outcome - Returned To Field Total-Feline',\n",
       "       'Live Outcome - Transferred Out Total-Feline',\n",
       "       'Live outcome - Other Live Outcome Total-Feline',\n",
       "       'Other Outcome - Died In Care Total-Feline',\n",
       "       'Other Outcome - Lost In Care Total-Feline',\n",
       "       'Other Outcome - Owner Intended Euthanasia Total-Feline',\n",
       "       'Other Outcome - Shelter Euthanasia Total-Feline',\n",
       "       'Intake - Relinquished By Owner Total-Canine',\n",
       "       'Intake - Stray At Large Total-Canine',\n",
       "       'Intake - Transferred In Total-Canine',\n",
       "       'Intake - Owner Intended Euthanasia Total-Canine',\n",
       "       'Intakes - Other Intakes Total-Canine',\n",
       "       'Live Outcome - Adoption Total-Canine',\n",
       "       'Live Outcome - Returned To Owner Total-Canine',\n",
       "       'Live Outcome - Returned To Field Total-Canine',\n",
       "       'Live Outcome - Transferred Out Total-Canine',\n",
       "       'Live outcome - Other Live Outcome Total-Canine',\n",
       "       'Other Outcome - Died In Care Total-Canine',\n",
       "       'Other Outcome - Lost In Care Total-Canine',\n",
       "       'Other Outcome - Owner Intended Euthanasia Total-Canine',\n",
       "       'Other Outcome - Shelter Euthanasia Total-Canine', 'Population'],\n",
       "      dtype='object')"
      ]
     },
     "execution_count": 21,
     "metadata": {},
     "output_type": "execute_result"
    }
   ],
   "source": [
    "main_df_path = os.path.join('Resources','shelter_data_complete.csv')\n",
    "main_df = pd.read_csv(main_df_path)\n",
    "\n",
    "main_df.columns\n",
    "\n"
   ]
  },
  {
   "cell_type": "code",
   "execution_count": 20,
   "id": "b1cd7cd2-046f-442c-b152-2d6b4152fec1",
   "metadata": {},
   "outputs": [
    {
     "data": {
      "text/plain": [
       "0      9570.0\n",
       "1      8842.0\n",
       "2      9734.0\n",
       "3      2067.0\n",
       "4      2124.0\n",
       "        ...  \n",
       "149    3343.0\n",
       "150    3277.0\n",
       "151     245.0\n",
       "152     202.0\n",
       "153     264.0\n",
       "Length: 154, dtype: float64"
      ]
     },
     "execution_count": 20,
     "metadata": {},
     "output_type": "execute_result"
    }
   ],
   "source": [
    "# Sum of all feline live outcomes\n",
    "\n",
    "feline_live_outcome = [\n",
    "    'Live Outcome - Adoption Total-Feline',\n",
    "    'Live Outcome - Returned To Owner Total-Feline',\n",
    "    'Live Outcome - Returned To Field Total-Feline',\n",
    "    'Live Outcome - Transferred Out Total-Feline',\n",
    "    'Live outcome - Other Live Outcome Total-Feline']\n",
    "\n",
    "feline_live_outcome_sum = main_df[feline_live_outcome].sum(axis = 1)\n",
    "\n",
    "feline_live_outcome_sum\n",
    "    "
   ]
  },
  {
   "cell_type": "code",
   "execution_count": 22,
   "id": "91e58b29-2d78-49dc-aade-4f11cb422298",
   "metadata": {},
   "outputs": [
    {
     "data": {
      "text/plain": [
       "0      3138.0\n",
       "1      1777.0\n",
       "2      2471.0\n",
       "3       603.0\n",
       "4       270.0\n",
       "        ...  \n",
       "149     290.0\n",
       "150     246.0\n",
       "151    1444.0\n",
       "152     454.0\n",
       "153     948.0\n",
       "Length: 154, dtype: float64"
      ]
     },
     "execution_count": 22,
     "metadata": {},
     "output_type": "execute_result"
    }
   ],
   "source": [
    "# Sum of all feline live outcomes\n",
    "\n",
    "feline_other_outcome = [\n",
    "    'Other Outcome - Died In Care Total-Feline',\n",
    "    'Other Outcome - Lost In Care Total-Feline',\n",
    "    'Other Outcome - Owner Intended Euthanasia Total-Feline',\n",
    "    'Other Outcome - Shelter Euthanasia Total-Feline']\n",
    "\n",
    "feline_other_outcome_sum = main_df[feline_other_outcome].sum(axis = 1)\n",
    "\n",
    "feline_other_outcome_sum"
   ]
  },
  {
   "cell_type": "code",
   "execution_count": 24,
   "id": "dba7c150-9b7a-4ccf-829d-62526e65777c",
   "metadata": {},
   "outputs": [
    {
     "data": {
      "text/plain": [
       "0      18322.0\n",
       "1      16287.0\n",
       "2      16473.0\n",
       "3          0.0\n",
       "4          0.0\n",
       "        ...   \n",
       "149     3140.0\n",
       "150     2927.0\n",
       "151      939.0\n",
       "152      819.0\n",
       "153      776.0\n",
       "Length: 154, dtype: float64"
      ]
     },
     "execution_count": 24,
     "metadata": {},
     "output_type": "execute_result"
    }
   ],
   "source": [
    "canine_live_outcome = [\n",
    "    'Live Outcome - Adoption Total-Canine',\n",
    "    'Live Outcome - Returned To Owner Total-Canine',\n",
    "    'Live Outcome - Returned To Field Total-Canine',\n",
    "    'Live Outcome - Transferred Out Total-Canine',\n",
    "    'Live outcome - Other Live Outcome Total-Canine']\n",
    "\n",
    "canine_live_outcome_sum = main_df[canine_live_outcome].sum(axis = 1)\n",
    "\n",
    "canine_live_outcome_sum"
   ]
  },
  {
   "cell_type": "code",
   "execution_count": 25,
   "id": "73ce95de-4cd6-499c-b20d-5caa9d002f83",
   "metadata": {},
   "outputs": [
    {
     "data": {
      "text/plain": [
       "0      3542.0\n",
       "1      2391.0\n",
       "2      2409.0\n",
       "3         0.0\n",
       "4         0.0\n",
       "        ...  \n",
       "149     183.0\n",
       "150     181.0\n",
       "151    1104.0\n",
       "152     415.0\n",
       "153     588.0\n",
       "Length: 154, dtype: float64"
      ]
     },
     "execution_count": 25,
     "metadata": {},
     "output_type": "execute_result"
    }
   ],
   "source": [
    "canine_other_outcome = [\n",
    "    'Other Outcome - Died In Care Total-Canine',\n",
    "    'Other Outcome - Lost In Care Total-Canine',\n",
    "    'Other Outcome - Owner Intended Euthanasia Total-Canine',\n",
    "    'Other Outcome - Shelter Euthanasia Total-Canine',]\n",
    "\n",
    "canine_other_outcome_sum = main_df[canine_other_outcome].sum(axis = 1)\n",
    "\n",
    "canine_other_outcome_sum"
   ]
  },
  {
   "cell_type": "code",
   "execution_count": null,
   "id": "199048d6-9f11-4679-873f-28e610bbe9eb",
   "metadata": {},
   "outputs": [],
   "source": []
  }
 ],
 "metadata": {
  "kernelspec": {
   "display_name": "Python 3 (ipykernel)",
   "language": "python",
   "name": "python3"
  },
  "language_info": {
   "codemirror_mode": {
    "name": "ipython",
    "version": 3
   },
   "file_extension": ".py",
   "mimetype": "text/x-python",
   "name": "python",
   "nbconvert_exporter": "python",
   "pygments_lexer": "ipython3",
   "version": "3.9.12"
  }
 },
 "nbformat": 4,
 "nbformat_minor": 5
}
