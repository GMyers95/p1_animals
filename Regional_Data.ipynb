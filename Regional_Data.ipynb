{
 "cells": [
  {
   "cell_type": "code",
   "execution_count": null,
   "metadata": {},
   "outputs": [],
   "source": [
    "#Imports \n",
    "import pandas as pd\n",
    "import matplotlib.pyplot as plt\n",
    "import numpy as np"
   ]
  },
  {
   "cell_type": "code",
   "execution_count": null,
   "metadata": {},
   "outputs": [],
   "source": [
    "# Locate Data to be used and Merge\n",
    "pet_csv = \"../Resources/adoption_data.csv\"\n",
    "state_csv = \"../Resources/2020_population_data.csv\"\n",
    "adoption_data_df = pd.read_csv(pet_csv)\n",
    "state_data_df = pd.read_csv(state_csv)\n",
    "\n",
    "#pet_data_df = pd.merge(adoption_data_df, state_data_df, on=[\"State\"])\n",
    "pet_data_df = pd.read_csv(\"../Resources/shelter_data_complete.csv\")"
   ]
  },
  {
   "cell_type": "code",
   "execution_count": null,
   "metadata": {},
   "outputs": [],
   "source": [
    "def region_from_state(state):\n",
    "    if state in [\"ME\", \"NH\", \"VT\", \"CT\", \"RI\", \"MA\"]:\n",
    "        region = \"New England\"\n",
    "    elif state in [\"MD\", \"PA\", \"NY\", \"NJ\", \"DE\", \"DC\"]:\n",
    "        region = \"Mideast\"\n",
    "    elif state in [\"WI\", \"IL\", \"MI\", \"IN\", \"OH\"]:\n",
    "        region = \"Great Lakes\"\n",
    "    elif state in [\"ND\", \"SD\", \"NE\", \"KS\", \"MN\", \"IA\", \"MO\"]:\n",
    "        region = \"Plains\" \n",
    "    elif state in [\"AR\", \"LA\", \"MS\", \"TN\", \"KY\", \"WV\", \"VA\", \"NC\", \"SC\", \"GA\", \"FL\", \"AL\"]:\n",
    "        region = \"Southeast\"   \n",
    "    elif state in [\"AZ\", \"NM\", \"TX\", \"OK\"]:\n",
    "        region = \"Southwest \"    \n",
    "    elif state in [\"ID\", \"UT\", \"MT\", \"WY\", \"CO\"]:\n",
    "        region = \"Rocky Mountain \"\n",
    "    elif state in [\"CA\", \"NV\", \"OR\", \"WA\"]:\n",
    "        region = \"Far West\"\n",
    "    elif state in [\"HI\", \"AK\", \"PR\"]:\n",
    "        region = \"Non-Continental\"\n",
    "    else:\n",
    "        region = \"NOT FOUND\"\n",
    "    return region\n",
    "\n",
    "pet_data_df[\"Region\"] = pet_data_df[\"State\"].map(region_from_state)\n",
    "pet_data_df.head(10)\n"
   ]
  },
  {
   "cell_type": "code",
   "execution_count": null,
   "metadata": {},
   "outputs": [],
   "source": [
    "pet_data_df[\"total_feline_intake\"] = pet_data_df['Intake - Stray At Large Total-Feline'] + pet_data_df['Intake - Transferred In Total-Feline'] + pet_data_df['Intake - Owner Intended Euthanasia Total-Feline'] + pet_data_df['Intakes - Other Intakes Total-Feline']\n",
    "pet_data_df[\"total_feline_live_outcome\"] = pet_data_df['Live Outcome - Adoption Total-Feline'] + pet_data_df['Live Outcome - Returned To Owner Total-Feline'] + pet_data_df['Live Outcome - Returned To Field Total-Feline'] + pet_data_df['Live Outcome - Transferred Out Total-Feline'] + pet_data_df['Live outcome - Other Live Outcome Total-Feline']\n",
    "pet_data_df[\"total_feline_other_outcome\"] = pet_data_df['Other Outcome - Died In Care Total-Feline'] + pet_data_df['Other Outcome - Lost In Care Total-Feline'] + pet_data_df['Other Outcome - Owner Intended Euthanasia Total-Feline'] + pet_data_df['Other Outcome - Shelter Euthanasia Total-Feline']\n",
    "pet_data_df[\"total_canine_intake\"] = pet_data_df['Intake - Stray At Large Total-Canine'] + pet_data_df['Intake - Transferred In Total-Canine'] + pet_data_df['Intake - Owner Intended Euthanasia Total-Canine'] + pet_data_df['Intakes - Other Intakes Total-Canine']\n",
    "pet_data_df[\"total_canine_live_outcome\"] = pet_data_df['Live Outcome - Adoption Total-Canine'] + pet_data_df['Live Outcome - Returned To Owner Total-Canine'] + pet_data_df['Live Outcome - Returned To Field Total-Canine'] + pet_data_df['Live Outcome - Transferred Out Total-Canine'] + pet_data_df['Live outcome - Other Live Outcome Total-Canine']\n",
    "pet_data_df[\"total_canine_other_outcome\"] = pet_data_df['Other Outcome - Died In Care Total-Canine'] + pet_data_df['Other Outcome - Lost In Care Total-Canine'] + pet_data_df['Other Outcome - Owner Intended Euthanasia Total-Canine'] + pet_data_df['Other Outcome - Shelter Euthanasia Total-Canine']"
   ]
  },
  {
   "cell_type": "code",
   "execution_count": null,
   "metadata": {},
   "outputs": [],
   "source": [
    "cat_data_regional = pet_data_df[[\"Year\" , \"Region\", \"State\"]].copy()\n",
    "\n",
    "cat_data_regional[\"Total Feline Intake\"] = pet_data_df['Intake - Stray At Large Total-Feline'] + pet_data_df['Intake - Transferred In Total-Feline'] + pet_data_df['Intake - Owner Intended Euthanasia Total-Feline'] + pet_data_df['Intakes - Other Intakes Total-Feline']\n",
    "cat_data_regional[\"Total Feline Outcomes\"] = pet_data_df[\"total_feline_live_outcome\"] + pet_data_df[\"total_feline_other_outcome\"]\n",
    "\n",
    "dog_data_regional = pet_data_df[[\"Year\" , \"Region\", \"State\"]].copy()\n",
    "\n",
    "dog_data_regional[\"Total Canine Outcomes\"] = pet_data_df[\"total_canine_live_outcome\"] + pet_data_df[\"total_canine_other_outcome\"]\n",
    "dog_data_regional[\"Total Canine Intake\"] = pet_data_df['Intake - Stray At Large Total-Canine'] + pet_data_df['Intake - Transferred In Total-Canine'] + pet_data_df['Intake - Owner Intended Euthanasia Total-Canine'] + pet_data_df['Intakes - Other Intakes Total-Canine']\n"
   ]
  },
  {
   "cell_type": "code",
   "execution_count": null,
   "metadata": {},
   "outputs": [],
   "source": [
    "combined_df = pet_data_df[[\"Year\" , \"Region\"]].copy()\n",
    "\n",
    "combined_df[\"Intake\"] = cat_data_regional[\"Total Feline Intake\"] + dog_data_regional[\"Total Canine Outcomes\"]\n",
    "\n",
    "combined_df['Outcome'] = cat_data_regional[\"Total Feline Outcomes\"] + dog_data_regional[\"Total Canine Intake\"]\n",
    "\n",
    "combined_df[\"Adoptions\"] = pet_data_df['Live Outcome - Adoption Total-Canine'] + pet_data_df['Live Outcome - Adoption Total-Feline']\n",
    "\n",
    "total_df = combined_df.groupby([\"Year\",\"Region\"]).sum()\n",
    "\n",
    "intake_pivot = pd.pivot_table(total_df, index=\"Region\", columns=\"Year\", values=\"Intake\")\n",
    "intake_pivot.plot(\n",
    "    kind=\"bar\", \n",
    "    xlabel=\"Regions\", \n",
    "    ylabel=\"Number of Animals\", \n",
    "    title=\"Annual Regional Intake\"\n",
    ")\n",
    "\n",
    "outcome_pivot = pd.pivot_table(total_df, index=\"Region\", columns=\"Year\", values=\"Outcome\")\n",
    "outcome_pivot.plot(\n",
    "    kind=\"bar\", \n",
    "    xlabel=\"Regions\", \n",
    "    ylabel=\"Number of Animals\", \n",
    "    title=\"Annual Regional Outcome\"\n",
    ")\n",
    "\n",
    "adoption_pivot = pd.pivot_table(total_df, index=\"Region\", columns=\"Year\", values=\"Adoptions\")\n",
    "adoption_pivot.plot(\n",
    "    kind=\"bar\", \n",
    "    xlabel=\"Regions\", \n",
    "    ylabel=\"Number of Animals\", \n",
    "    title=\"Annual Regional Adoptions\"\n",
    ")\n",
    "\n",
    "    "
   ]
  },
  {
   "cell_type": "code",
   "execution_count": null,
   "metadata": {},
   "outputs": [],
   "source": [
    "total_df"
   ]
  },
  {
   "cell_type": "code",
   "execution_count": null,
   "metadata": {},
   "outputs": [],
   "source": []
  }
 ],
 "metadata": {
  "kernelspec": {
   "display_name": "Python 3.9.7 ('base')",
   "language": "python",
   "name": "python3"
  },
  "language_info": {
   "codemirror_mode": {
    "name": "ipython",
    "version": 3
   },
   "file_extension": ".py",
   "mimetype": "text/x-python",
   "name": "python",
   "nbconvert_exporter": "python",
   "pygments_lexer": "ipython3",
   "version": "3.9.7"
  },
  "orig_nbformat": 4,
  "vscode": {
   "interpreter": {
    "hash": "34c67e8af8d6d08139dc7baa7182b3b866a978042d5934b1571eea78e1d74667"
   }
  }
 },
 "nbformat": 4,
 "nbformat_minor": 2
}
