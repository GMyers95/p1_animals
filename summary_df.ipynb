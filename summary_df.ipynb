{
 "cells": [
  {
   "cell_type": "code",
   "execution_count": null,
   "id": "c8d9d292-f547-413e-b886-52410331458f",
   "metadata": {},
   "outputs": [],
   "source": [
    "import pandas as pd\n",
    "import os\n",
    "import plotly\n",
    "import plotly.express as px\n",
    "shelter_data_to_load = os.path.join('Resources','adoption_data.csv')\n",
    "population_data_to_load = os.path.join('Resources','2020_population_data.csv')\n",
    "# Read shelter data and store into Pandas DataFrame\n",
    "shelter_data = pd.read_csv(shelter_data_to_load)\n",
    "pop_data = pd.read_csv(population_data_to_load)\n",
    "shelter_data_complete = pd.merge(shelter_data, pop_data, how=\"right\", on=[\"State\", \"State\"])"
   ]
  },
  {
   "cell_type": "code",
   "execution_count": null,
   "id": "35b62c1d-95d5-48fb-9441-36aff8837fa1",
   "metadata": {},
   "outputs": [],
   "source": [
    "cat_adoptions = shelter_data_complete.groupby([\"Year\"]).sum()[\"Live Outcome - Adoption Total-Feline\"]"
   ]
  },
  {
   "cell_type": "code",
   "execution_count": null,
   "id": "06a7811f-9095-46ba-90b7-39c348e84336",
   "metadata": {},
   "outputs": [],
   "source": [
    "dog_adoptions = shelter_data_complete.groupby([\"Year\"]).sum()[\"Live Outcome - Adoption Total-Canine\"]"
   ]
  },
  {
   "cell_type": "code",
   "execution_count": null,
   "id": "95c8ceae-c974-487d-a2c8-cedf3d789f29",
   "metadata": {},
   "outputs": [],
   "source": [
    "relinquished_cat = shelter_data_complete.groupby([\"Year\"])[\"Intake - Relinquished By Owner Total-Feline\"].sum()"
   ]
  },
  {
   "cell_type": "code",
   "execution_count": null,
   "id": "903a572a-cb7a-4cef-8f37-8911e148362f",
   "metadata": {},
   "outputs": [],
   "source": [
    "relinquished_dog = shelter_data_complete.groupby([\"Year\"])[\"Intake - Relinquished By Owner Total-Canine\"].sum()"
   ]
  },
  {
   "cell_type": "code",
   "execution_count": null,
   "id": "c71b03ff-7142-405d-809c-07dc612a0702",
   "metadata": {},
   "outputs": [],
   "source": [
    "relinquished_total = relinquished_cat + relinquished_dog"
   ]
  },
  {
   "cell_type": "code",
   "execution_count": null,
   "id": "15f3f18c-db4d-4a7d-9e85-7e79267a420c",
   "metadata": {},
   "outputs": [],
   "source": [
    "adoptions_total = cat_adoptions + dog_adoptions"
   ]
  },
  {
   "cell_type": "code",
   "execution_count": null,
   "id": "d93654f3",
   "metadata": {},
   "outputs": [],
   "source": [
    "summary_df = pd.DataFrame()\n",
    "summary_df[\"Total Cat Adoptions\"] = cat_adoptions\n",
    "summary_df[\"Total Dog Adoptions\"] = dog_adoptions\n",
    "summary_df[\"Total Adoptions\"] = adoptions_total\n",
    "summary_df[\"Total Relinquished Cats\"] = relinquished_cat\n",
    "summary_df[\"Total Relinquished Dogs\"] = relinquished_dog\n",
    "summary_df[\"Total Relinquished\"] = relinquished_total\n",
    "summary_df\n"
   ]
  },
  {
   "cell_type": "code",
   "execution_count": null,
   "id": "14b004bb-cd89-48b1-b0e8-50cd920b0a34",
   "metadata": {},
   "outputs": [],
   "source": [
    "# per capita adoptions per state per year\n",
    "cat_adopt_state_total = shelter_data_complete.groupby([\"State\"]).sum()[\"Live Outcome - Adoption Total-Feline\"]\n",
    "dog_adopt_state_total = shelter_data_complete.groupby([\"State\"]).sum()[\"Live Outcome - Adoption Total-Canine\"]\n",
    "\n",
    "cat_adopt_state_2019 = shelter_data_complete[shelter_data_complete[\"Year\"] == 2019.0][\"Live Outcome - Adoption Total-Feline\"]\n",
    "cat_adopt_state_2020 = shelter_data_complete[shelter_data_complete[\"Year\"] == 2020.0][\"Live Outcome - Adoption Total-Feline\"]\n",
    "cat_adopt_state_2021 = shelter_data_complete[shelter_data_complete[\"Year\"] == 2021.0][\"Live Outcome - Adoption Total-Feline\"]\n",
    "\n",
    "dog_adopt_state_2019 = shelter_data_complete[shelter_data_complete[\"Year\"] == 2019.0][\"Live Outcome - Adoption Total-Canine\"]\n",
    "dog_adopt_state_2020 = shelter_data_complete[shelter_data_complete[\"Year\"] == 2020.0][\"Live Outcome - Adoption Total-Canine\"]\n",
    "dog_adopt_state_2021 = shelter_data_complete[shelter_data_complete[\"Year\"] == 2021.0][\"Live Outcome - Adoption Total-Canine\"]\n",
    "\n",
    "pop_state_2019 = shelter_data_complete[shelter_data_complete[\"Year\"] == 2019.0][\"Population\"]\n",
    "pop_state_2020 = shelter_data_complete[shelter_data_complete[\"Year\"] == 2020.0][\"Population\"]\n",
    "pop_state_2021 = shelter_data_complete[shelter_data_complete[\"Year\"] == 2021.0][\"Population\"]\n",
    "#per capita\n",
    "adopt_cap_2019 = ((cat_adopt_state_2019 + dog_adopt_state_2019) / pop_state_2019) * 1000\n",
    "adopt_cap_2020 = ((cat_adopt_state_2020 + dog_adopt_state_2020) / pop_state_2020) * 1000\n",
    "adopt_cap_2021 = ((cat_adopt_state_2021 + dog_adopt_state_2021) / pop_state_2021) * 1000\n",
    "states_2019 = shelter_data_complete[shelter_data_complete[\"Year\"] == 2019.0][\"State\"]\n",
    "states_2020 = shelter_data_complete[shelter_data_complete[\"Year\"] == 2020.0][\"State\"]\n",
    "states_2021 = shelter_data_complete[shelter_data_complete[\"Year\"] == 2021.0][\"State\"]"
   ]
  },
  {
   "cell_type": "code",
   "execution_count": null,
   "id": "52b2fe3d",
   "metadata": {},
   "outputs": [],
   "source": [
    "import plotly.graph_objects as go"
   ]
  },
  {
   "cell_type": "code",
   "execution_count": null,
   "id": "c1f56847",
   "metadata": {},
   "outputs": [],
   "source": [
    "#2019\n",
    "\n",
    "fig = go.Figure(data=go.Choropleth(\n",
    "    locations= states_2019,\n",
    "    z=adopt_cap_2019,\n",
    "    locationmode='USA-states',\n",
    "    colorscale='Blues',\n",
    "    autocolorscale=False,\n",
    "#     text=df['text'], # hover text\n",
    "    marker_line_color='white', # line markers between states\n",
    "    colorbar_title=\"Adoptions(x1000) per Capita\"\n",
    "))\n",
    "fig.update_layout(\n",
    "    title_text='2019 Adoptions per Capita By State',\n",
    "    geo = dict(\n",
    "        scope='usa',\n",
    "        projection=go.layout.geo.Projection(type = 'albers usa'),\n",
    "        showlakes=True, # lakes\n",
    "        lakecolor='rgb(255, 255, 255)'),\n",
    ")\n",
    "\n",
    "fig.show()"
   ]
  },
  {
   "cell_type": "code",
   "execution_count": null,
   "id": "e487a866",
   "metadata": {},
   "outputs": [],
   "source": [
    "#2020\n",
    "fig = go.Figure(data=go.Choropleth(\n",
    "    locations= states_2020,\n",
    "    z=adopt_cap_2020,\n",
    "    locationmode='USA-states',\n",
    "    colorscale='Blues',\n",
    "    autocolorscale=False,\n",
    "#     text=df['text'], # hover text\n",
    "    marker_line_color='white', # line markers between states\n",
    "    colorbar_title=\"Adoptions(x1000) per Capita\"\n",
    "))\n",
    "fig.update_layout(\n",
    "    title_text='2020 Adoptions per Capita By State',\n",
    "    geo = dict(\n",
    "        scope='usa',\n",
    "        projection=go.layout.geo.Projection(type = 'albers usa'),\n",
    "        showlakes=True, # lakes\n",
    "        lakecolor='rgb(255, 255, 255)'),\n",
    ")\n",
    "\n",
    "fig.show()"
   ]
  },
  {
   "cell_type": "code",
   "execution_count": null,
   "id": "448eaa6c",
   "metadata": {},
   "outputs": [],
   "source": [
    "#2021\n",
    "fig = go.Figure(data=go.Choropleth(\n",
    "    locations= states_2021,\n",
    "    z=adopt_cap_2021,\n",
    "    locationmode='USA-states',\n",
    "    colorscale='Blues',\n",
    "    autocolorscale=False,\n",
    "#     text=df['text'], # hover text\n",
    "    marker_line_color='white', # line markers between states\n",
    "    colorbar_title=\"Adoptions(x1000) per Capita\"\n",
    "))\n",
    "fig.update_layout(\n",
    "    title_text='2021 Adoptions per Capita By State',\n",
    "    geo = dict(\n",
    "        scope='usa',\n",
    "        projection=go.layout.geo.Projection(type = 'albers usa'),\n",
    "        showlakes=True, # lakes\n",
    "        lakecolor='rgb(255, 255, 255)'),\n",
    ")\n",
    "\n",
    "fig.show()"
   ]
  },
  {
   "cell_type": "code",
   "execution_count": null,
   "id": "1f627610",
   "metadata": {},
   "outputs": [],
   "source": []
  }
 ],
 "metadata": {
  "kernelspec": {
   "display_name": "Python [conda env:PythonData38] *",
   "language": "python",
   "name": "conda-env-PythonData38-py"
  },
  "language_info": {
   "codemirror_mode": {
    "name": "ipython",
    "version": 3
   },
   "file_extension": ".py",
   "mimetype": "text/x-python",
   "name": "python",
   "nbconvert_exporter": "python",
   "pygments_lexer": "ipython3",
   "version": "3.8.13"
  }
 },
 "nbformat": 4,
 "nbformat_minor": 5
}
