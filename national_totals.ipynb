{
 "cells": [
  {
   "cell_type": "code",
   "execution_count": null,
   "id": "26247ed1",
   "metadata": {},
   "outputs": [],
   "source": [
    "#dependencies\n",
    "import pandas as pd\n",
    "import matplotlib.pyplot as plt\n",
    "import os\n",
    "import dataframe_image as dfi\n",
    "\n",
    "# #datafiles\n",
    "# shelter_data_to_load = os.path.join(\"Resources\", \"adoption_data.csv\")\n",
    "# population_data_to_load = os.path.join(\"Resources\", \"2020_population_data.csv\")\n",
    "\n",
    "# # Read shelter data and store into Pandas DataFrame\n",
    "# shelter_data = pd.read_csv(shelter_data_to_load)\n",
    "# pop_data = pd.read_csv(population_data_to_load)\n",
    "# shelter_data_complete = pd.merge(shelter_data, pop_data, how=\"right\", on=[\"State\", \"State\"])\n",
    "\n",
    "#new merged datafile\n",
    "main_df_path = os.path.join(\"Resources\", \"shelter_data_complete.csv\")\n",
    "main_df = pd.read_csv(main_df_path)\n",
    "\n",
    "main_df.head()"
   ]
  },
  {
   "cell_type": "code",
   "execution_count": null,
   "id": "abde6196",
   "metadata": {},
   "outputs": [],
   "source": [
    "#group by year\n",
    "yearly_totals = main_df.groupby(\"Year\").sum()\n",
    "yearly_totals"
   ]
  },
  {
   "cell_type": "code",
   "execution_count": null,
   "id": "d404e46e",
   "metadata": {},
   "outputs": [],
   "source": [
    "#combine intakes and outcomes by type for both feline and canine\n",
    "\n",
    "intake_totals = pd.DataFrame({\n",
    "    \"Relinquished By Owner\": yearly_totals[\"Intake - Relinquished By Owner Total-Feline\"] + yearly_totals[\"Intake - Relinquished By Owner Total-Canine\"],\n",
    "    \"Stray\": yearly_totals[\"Intake - Stray At Large Total-Feline\"] + yearly_totals[\"Intake - Stray At Large Total-Canine\"],\n",
    "    \"Transfer In\": yearly_totals[\"Intake - Transferred In Total-Feline\"] + yearly_totals[\"Intake - Transferred In Total-Canine\"],\n",
    "    \"Owner Intended Euthanasia\": yearly_totals[\"Intake - Owner Intended Euthanasia Total-Feline\"] + yearly_totals[\"Intake - Owner Intended Euthanasia Total-Canine\"],\n",
    "    \"Other\": yearly_totals[\"Intakes - Other Intakes Total-Feline\"] + yearly_totals[\"Intakes - Other Intakes Total-Canine\"]\n",
    "})\n",
    "\n",
    "\n",
    "#save as image\n",
    "dfi.export(intake_totals, f\"Images/intakes_table.png\") \n",
    "\n",
    "intake_totals\n"
   ]
  },
  {
   "cell_type": "code",
   "execution_count": null,
   "id": "8b4d1c1d",
   "metadata": {},
   "outputs": [],
   "source": [
    "outcome_totals = pd.DataFrame({\n",
    "    \"Adoption\": yearly_totals[\"Live Outcome - Adoption Total-Feline\"] + yearly_totals[\"Live Outcome - Adoption Total-Canine\"],\n",
    "    \"Returned To Owner\": yearly_totals[\"Live Outcome - Returned To Owner Total-Feline\"] + yearly_totals[\"Live Outcome - Returned To Owner Total-Canine\"],\n",
    "    \"Returned To Field\": yearly_totals[\"Live Outcome - Returned To Field Total-Feline\"] + yearly_totals[\"Live Outcome - Returned To Field Total-Canine\"],\n",
    "    \"Transferred Out\": yearly_totals[\"Live Outcome - Transferred Out Total-Feline\"] + yearly_totals[\"Live Outcome - Transferred Out Total-Canine\"],\n",
    "    \"Other Live Outcomes\": yearly_totals[\"Live outcome - Other Live Outcome Total-Feline\"] + yearly_totals[\"Live outcome - Other Live Outcome Total-Canine\"],\n",
    "    \"Died In Care\": yearly_totals[\"Other Outcome - Died In Care Total-Feline\"] + yearly_totals[\"Other Outcome - Died In Care Total-Canine\"],\n",
    "    \"Lost In Care\": yearly_totals[\"Other Outcome - Lost In Care Total-Feline\"] + yearly_totals[\"Other Outcome - Lost In Care Total-Canine\"],\n",
    "    \"Owner Intended Euthanasia\": yearly_totals[\"Other Outcome - Owner Intended Euthanasia Total-Feline\"] + yearly_totals[\"Other Outcome - Owner Intended Euthanasia Total-Canine\"],\n",
    "    \"Shelter Euthanasia\": yearly_totals[\"Other Outcome - Shelter Euthanasia Total-Feline\"] + yearly_totals[\"Other Outcome - Shelter Euthanasia Total-Canine\"]\n",
    "})\n",
    "\n",
    "#save as image\n",
    "dfi.export(outcome_totals, f\"Images/outcomes_table.png\") \n",
    "\n",
    "outcome_totals"
   ]
  },
  {
   "cell_type": "code",
   "execution_count": null,
   "id": "41d56bac",
   "metadata": {},
   "outputs": [],
   "source": [
    "#create graphs for total intakes and total outcomes by category type\n",
    "#intake plot\n",
    "plt.rcParams[\"figure.figsize\"] = (10, 6)\n",
    "intake_totals.plot(kind =\"bar\", title=\"Total Intakes By Type\", rot = 0, use_index=True).grid(axis=\"y\")\n",
    "plt.ticklabel_format(style=\"plain\", axis =\"y\")\n",
    "plt.ylabel(\"Number of Animals\")\n",
    "plt.legend(bbox_to_anchor=(1.02, 1), loc=\"upper left\", borderaxespad=0)\n",
    "\n",
    "#save figure\n",
    "plt.savefig(f\"images/Figure_1\")\n",
    "\n",
    "plt.show()"
   ]
  },
  {
   "cell_type": "code",
   "execution_count": null,
   "id": "bd2d7dea",
   "metadata": {},
   "outputs": [],
   "source": [
    "#outcome plot\n",
    "plt.rcParams[\"figure.figsize\"] = (15, 6)\n",
    "outcome_totals.plot(kind=\"bar\", title=\"Total Outcomes By Type\", rot = 0, use_index=True).grid(axis=\"y\")\n",
    "plt.ticklabel_format(style=\"plain\", axis =\"y\")\n",
    "plt.ylabel(\"Number of Animals\")\n",
    "plt.legend(bbox_to_anchor=(1.02, 1), loc=\"upper left\", borderaxespad=0)\n",
    "\n",
    "#save figure\n",
    "plt.savefig(f\"images/Figure_2\")\n",
    "\n",
    "plt.show()"
   ]
  },
  {
   "cell_type": "code",
   "execution_count": null,
   "id": "e275ba8c",
   "metadata": {},
   "outputs": [],
   "source": [
    "#pivot plots so years become columns\n",
    "#intakes by year\n",
    "plt.rcParams[\"figure.figsize\"] = (10, 6)\n",
    "intake_totals.T.plot(kind=\"bar\", title=\"Total Intakes By Type\", rot = 0, use_index=True).grid(axis=\"y\")\n",
    "plt.suptitle\n",
    "plt.ticklabel_format(style='plain', axis =\"y\")\n",
    "plt.ylabel(\"Number of Animals\")\n",
    "plt.xlabel(\"Category Type\")\n",
    "plt.legend()\n",
    "\n",
    "#save figure\n",
    "plt.savefig(f\"images/Figure_3\")\n",
    "\n",
    "plt.show()"
   ]
  },
  {
   "cell_type": "code",
   "execution_count": null,
   "id": "a973e54e",
   "metadata": {},
   "outputs": [],
   "source": [
    "#outcomes by year\n",
    "plt.rcParams[\"figure.figsize\"] = (20, 6)\n",
    "outcome_totals.T.plot(kind=\"bar\", title=\"Total Outcomes By Type\", rot = 0, use_index=True).grid(axis=\"y\")\n",
    "plt.ticklabel_format(style='plain', axis =\"y\")\n",
    "plt.ylabel(\"Number of Animals\")\n",
    "plt.xlabel(\"Category Type\")\n",
    "plt.legend()\n",
    "\n",
    "#save figure\n",
    "plt.savefig(f\"images/Figure_4\")\n",
    "\n",
    "plt.show()"
   ]
  },
  {
   "cell_type": "code",
   "execution_count": null,
   "id": "b8beec06-ccaf-4a46-9333-e63a362fdf7d",
   "metadata": {},
   "outputs": [],
   "source": [
    "#combine overall intake vs outcome\n",
    "totals = pd.DataFrame({\n",
    "    \"Total Intakes\": intake_totals.sum(axis=1),\n",
    "    \"Total Outcomes\": outcome_totals.sum(axis=1)\n",
    "})\n",
    "\n",
    "#save as image and pivot table\n",
    "dfi.export(totals.T, f\"Images/totals_table.png\") \n",
    "\n",
    "totals"
   ]
  },
  {
   "cell_type": "code",
   "execution_count": null,
   "id": "d7bb88fe-823d-4a40-9c52-26dfe79889f1",
   "metadata": {},
   "outputs": [],
   "source": [
    "#Total Intake Plot\n",
    "plt.rcParams[\"figure.figsize\"] = (10, 6)\n",
    "totals[\"Total Intakes\"].plot(kind=\"bar\", title=\"Total Intakes\", rot = 0).grid(axis=\"y\")\n",
    "plt.ylim([1500000,2500000])\n",
    "plt.yticks([1500000, 2000000, 2500000])\n",
    "plt.ticklabel_format(style='plain', axis =\"y\")\n",
    "plt.ylabel(\"Number of Animals\")\n",
    "\n",
    "#save figure\n",
    "plt.savefig(f\"images/Figure_5\")\n",
    "\n",
    "plt.show()"
   ]
  },
  {
   "cell_type": "code",
   "execution_count": null,
   "id": "c57e1b07",
   "metadata": {},
   "outputs": [],
   "source": [
    "#Total Outcomes Plot\n",
    "plt.rcParams[\"figure.figsize\"] = (10, 6)\n",
    "totals[\"Total Outcomes\"].plot(kind=\"bar\", title=\"Total Outcomes\", rot = 0).grid(axis=\"y\")\n",
    "plt.ylim([1500000,2500000])\n",
    "plt.yticks([1500000, 2000000, 2500000])\n",
    "plt.ticklabel_format(style='plain', axis =\"y\")\n",
    "plt.ylabel(\"Number of Animals\")\n",
    "\n",
    "#save figure\n",
    "plt.savefig(f\"images/Figure_6\")\n",
    "\n",
    "plt.show()"
   ]
  },
  {
   "cell_type": "code",
   "execution_count": null,
   "id": "85acbdff-1d1c-4ed7-91d8-abec176cdfd9",
   "metadata": {},
   "outputs": [],
   "source": [
    "#calculations\n",
    "\n",
    "#change in total intakes between the years\n",
    "intakes_19 = totals[\"Total Intakes\"].iloc[0]\n",
    "intakes_20 = totals[\"Total Intakes\"].iloc[1]\n",
    "intakes_21 = totals[\"Total Intakes\"].iloc[2]\n",
    "\n",
    "intake_change1 = ((intakes_20 - intakes_19)/ intakes_19 *100).round(2)\n",
    "intake_change2 = ((intakes_21 - intakes_20)/ intakes_20 *100).round(2)\n",
    "intake_change_overall = ((intakes_21 - intakes_19)/ intakes_19 *100).round(2)\n",
    "\n",
    "#print statements\n",
    "print(f\"The total number of animal intakes changed by {intake_change1}% from 2019 to 2020 and {intake_change2}% from 2020 to 2021. The overall change from 2019 to 2021 was {intake_change_overall}%\")"
   ]
  },
  {
   "cell_type": "code",
   "execution_count": null,
   "id": "e078d33f",
   "metadata": {},
   "outputs": [],
   "source": [
    "#change in total outcomes between the years\n",
    "outcomes_19 = totals[\"Total Outcomes\"].iloc[0]\n",
    "outcomes_20 = totals[\"Total Outcomes\"].iloc[1]\n",
    "outcomes_21 = totals[\"Total Outcomes\"].iloc[2]\n",
    "\n",
    "outcome_change1 = ((outcomes_20 - outcomes_19)/ outcomes_19 *100).round(2)\n",
    "outcome_change2 = ((outcomes_21 - outcomes_20)/ outcomes_20 *100).round(2)\n",
    "outcome_change_overall = ((outcomes_21 - outcomes_19)/ outcomes_19 *100).round(2)\n",
    "\n",
    "#print statements\n",
    "print(f\"The total number of animal outcomes changed by {outcome_change1}% from 2019 to 2020 and {outcome_change2}% from 2020 to 2021. The overall change from 2019 to 2021 was {outcome_change_overall}%\")"
   ]
  }
 ],
 "metadata": {
  "kernelspec": {
   "display_name": "Python [conda env:PythonData38]",
   "language": "python",
   "name": "conda-env-PythonData38-py"
  },
  "language_info": {
   "codemirror_mode": {
    "name": "ipython",
    "version": 3
   },
   "file_extension": ".py",
   "mimetype": "text/x-python",
   "name": "python",
   "nbconvert_exporter": "python",
   "pygments_lexer": "ipython3",
   "version": "3.8.13"
  },
  "vscode": {
   "interpreter": {
    "hash": "10f4219f624992e614e3b071e5ee4d11c0410063cd3aadbd73aa9ecb633eae83"
   }
  }
 },
 "nbformat": 4,
 "nbformat_minor": 5
}
