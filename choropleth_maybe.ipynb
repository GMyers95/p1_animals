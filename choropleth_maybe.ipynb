{
 "cells": [
  {
   "cell_type": "code",
   "execution_count": null,
   "id": "c38ec1b1",
   "metadata": {},
   "outputs": [],
   "source": [
    "import pandas as pd\n",
    "import os\n",
    "import plotly\n",
    "import plotly.express as px\n",
    "shelter_complete_data_to_load = os.path.join('shelter_data_complete.csv')\n",
    "# Read shelter data and store into Pandas DataFrame\n",
    "shelter_data_complete = pd.read_csv(shelter_complete_data_to_load)\n",
    "\n",
    "fig = px.choropleth(\n",
    "    locations=shelter_data_complete['state'], \n",
    "    color = shelter_data_complete['Adoptions Per Capita'].astype(float), \n",
    "    locationmode=\"USA-states\", \n",
    "    scope=\"usa\", \n",
    "    color_continuous_scale = 'ylorrd', \n",
    "    labels={'color':'Adoptions Per Capita'},\n",
    "    title = 'Adoptions per Capita by State'\n",
    "    )\n",
    "fig.write_html('Choropleth Map by state.html')"
   ]
  }
 ],
 "metadata": {
  "kernelspec": {
   "display_name": "Python 3 (ipykernel)",
   "language": "python",
   "name": "python3"
  },
  "language_info": {
   "codemirror_mode": {
    "name": "ipython",
    "version": 3
   },
   "file_extension": ".py",
   "mimetype": "text/x-python",
   "name": "python",
   "nbconvert_exporter": "python",
   "pygments_lexer": "ipython3",
   "version": "3.8.13"
  }
 },
 "nbformat": 4,
 "nbformat_minor": 5
}
