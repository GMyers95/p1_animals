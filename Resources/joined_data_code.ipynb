{
 "cells": [
  {
   "cell_type": "code",
   "execution_count": null,
   "id": "c8d9d292-f547-413e-b886-52410331458f",
   "metadata": {},
   "outputs": [],
   "source": [
    "import pandas as pd\n",
    "import os\n",
    "shelter_data_to_load = os.path.join('adoption_data.csv')\n",
    "population_data_to_load = os.path.join('2020_population_data.csv')\n",
    "\n",
    "# Read shelter data and store into Pandas DataFrame\n",
    "shelter_data = pd.read_csv(shelter_data_to_load)\n",
    "pop_data = pd.read_csv(population_data_to_load)\n",
    "shelter_data_complete = pd.merge(shelter_data, pop_data, how=\"right\", on=[\"State\", \"State\"])\n",
    "\n",
    "shelter_data_complete"
   ]
  },
  {
   "cell_type": "code",
   "execution_count": null,
   "id": "df2cb55a-4092-4283-a107-20ef32ec3bbc",
   "metadata": {},
   "outputs": [],
   "source": [
    "# Format Columns\n",
    "\n",
    "columns_to_format = ['Year', \n",
    "        'Intake - Relinquished By Owner Total-Feline',\n",
    "       'Intake - Stray At Large Total-Feline',\n",
    "       'Intake - Transferred In Total-Feline',\n",
    "       'Intake - Owner Intended Euthanasia Total-Feline',\n",
    "       'Intakes - Other Intakes Total-Feline',\n",
    "       'Live Outcome - Adoption Total-Feline',\n",
    "       'Live Outcome - Returned To Owner Total-Feline',\n",
    "       'Live Outcome - Returned To Field Total-Feline',\n",
    "       'Live Outcome - Transferred Out Total-Feline',\n",
    "       'Live outcome - Other Live Outcome Total-Feline',\n",
    "       'Other Outcome - Died In Care Total-Feline',\n",
    "       'Other Outcome - Lost In Care Total-Feline',\n",
    "       'Other Outcome - Owner Intended Euthanasia Total-Feline',\n",
    "       'Other Outcome - Shelter Euthanasia Total-Feline',\n",
    "       'Intake - Relinquished By Owner Total-Canine',\n",
    "       'Intake - Stray At Large Total-Canine',\n",
    "       'Intake - Transferred In Total-Canine',\n",
    "       'Intake - Owner Intended Euthanasia Total-Canine',\n",
    "       'Intakes - Other Intakes Total-Canine',\n",
    "       'Live Outcome - Adoption Total-Canine',\n",
    "       'Live Outcome - Returned To Owner Total-Canine',\n",
    "       'Live Outcome - Returned To Field Total-Canine',\n",
    "       'Live Outcome - Transferred Out Total-Canine',\n",
    "       'Live outcome - Other Live Outcome Total-Canine',\n",
    "       'Other Outcome - Died In Care Total-Canine',\n",
    "       'Other Outcome - Lost In Care Total-Canine',\n",
    "       'Other Outcome - Owner Intended Euthanasia Total-Canine',\n",
    "       'Other Outcome - Shelter Euthanasia Total-Canine']\n",
    "\n",
    "shelter_data_complete[columns_to_format] = shelter_data_complete[columns_to_format].astype('int')\n",
    "shelter_data_complete"
   ]
  },
  {
   "cell_type": "code",
   "execution_count": null,
   "id": "35b62c1d-95d5-48fb-9441-36aff8837fa1",
   "metadata": {},
   "outputs": [],
   "source": [
    "import csv\n",
    "shelter_data_complete.to_csv(r\"shelter_data_complete.csv\", index = False) "
   ]
  },
  {
   "cell_type": "code",
   "execution_count": null,
   "id": "829a8170",
   "metadata": {},
   "outputs": [],
   "source": []
  }
 ],
 "metadata": {
  "kernelspec": {
   "display_name": "Python 3.8.13 ('PythonData38')",
   "language": "python",
   "name": "python3"
  },
  "language_info": {
   "codemirror_mode": {
    "name": "ipython",
    "version": 3
   },
   "file_extension": ".py",
   "mimetype": "text/x-python",
   "name": "python",
   "nbconvert_exporter": "python",
   "pygments_lexer": "ipython3",
   "version": "3.8.13"
  },
  "vscode": {
   "interpreter": {
    "hash": "e0654a5b59dd5b24101221be60c7d120a0a171df0ac06a79cc4cd145704d4547"
   }
  }
 },
 "nbformat": 4,
 "nbformat_minor": 5
}
