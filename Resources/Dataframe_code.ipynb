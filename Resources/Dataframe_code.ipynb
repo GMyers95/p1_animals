{
 "cells": [
  {
   "cell_type": "code",
   "execution_count": null,
   "id": "c8d9d292-f547-413e-b886-52410331458f",
   "metadata": {},
   "outputs": [],
   "source": [
    "import pandas as pd\n",
    "import os\n",
    "shelter_data_to_load = os.path.join('adoption_data.csv')\n",
    "population_data_to_load = os.path.join('2020_population_data.csv')\n",
    "# Read shelter data and store into Pandas DataFrame\n",
    "shelter_data = pd.read_csv(shelter_data_to_load)\n",
    "pop_data = pd.read_csv(population_data_to_load)\n",
    "shelter_data_complete = pd.merge(shelter_data, pop_data, how=\"right\", on=[\"State\", \"State\"])\n",
    "shelter_data_complete.head()"
   ]
  },
  {
   "cell_type": "code",
   "execution_count": null,
   "id": "35b62c1d-95d5-48fb-9441-36aff8837fa1",
   "metadata": {},
   "outputs": [],
   "source": []
  }
 ],
 "metadata": {
  "kernelspec": {
   "display_name": "Python 3 (ipykernel)",
   "language": "python",
   "name": "python3"
  },
  "language_info": {
   "codemirror_mode": {
    "name": "ipython",
    "version": 3
   },
   "file_extension": ".py",
   "mimetype": "text/x-python",
   "name": "python",
   "nbconvert_exporter": "python",
   "pygments_lexer": "ipython3",
   "version": "3.9.12"
  }
 },
 "nbformat": 4,
 "nbformat_minor": 5
}
